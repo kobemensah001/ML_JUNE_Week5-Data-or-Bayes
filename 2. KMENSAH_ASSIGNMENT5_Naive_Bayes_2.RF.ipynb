{
 "cells": [
  {
   "cell_type": "markdown",
   "id": "06431bba",
   "metadata": {},
   "source": [
    "# KMENSAH_ASSIGNMENT5"
   ]
  },
  {
   "cell_type": "code",
   "execution_count": null,
   "id": "739ff301",
   "metadata": {},
   "outputs": [],
   "source": []
  },
  {
   "cell_type": "code",
   "execution_count": 1,
   "id": "1b688655",
   "metadata": {},
   "outputs": [],
   "source": [
    "import numpy as np\n",
    "import pandas as pd\n",
    "\n",
    "from sklearn.preprocessing import LabelEncoder\n",
    "\n",
    "import os\n",
    "\n",
    "import warnings\n",
    "warnings.filterwarnings('ignore')\n",
    "\n",
    "import matplotlib.pyplot as plt\n",
    "import seaborn as sns\n",
    "\n",
    "# Removes the limit for the number of displayed columns\n",
    "pd.set_option(\"display.max_columns\", None)\n",
    "# Sets the limit for the number of displayed rows\n",
    "pd.set_option(\"display.max_rows\", 200)\n",
    "\n",
    "# Libraries to build decision tree classifier\n",
    "from sklearn.tree import DecisionTreeClassifier\n",
    "from sklearn import tree\n",
    "from sklearn.model_selection import train_test_split\n",
    "\n",
    "# To tune different models\n",
    "from sklearn.model_selection import GridSearchCV\n",
    "\n",
    "# To get diferent metric scores\n",
    "from sklearn.metrics import (\n",
    "    f1_score,\n",
    "    accuracy_score,\n",
    "    recall_score,\n",
    "    precision_score,\n",
    "    #confusion_matrix,\n",
    "    #plot_confusion_matrix,\n",
    "    make_scorer,\n",
    ")"
   ]
  },
  {
   "cell_type": "code",
   "execution_count": 2,
   "id": "1c7c0a0d",
   "metadata": {},
   "outputs": [],
   "source": [
    "# To build a Random forest classifier\n",
    "from sklearn.ensemble import RandomForestClassifier\n",
    "\n",
    "# To tune a model\n",
    "from sklearn.model_selection import GridSearchCV\n",
    "from sklearn.model_selection import RandomizedSearchCV\n",
    "\n",
    "# To get different performance metrics\n",
    "import sklearn.metrics as metrics\n",
    "from sklearn.metrics import (\n",
    "    classification_report,\n",
    "    confusion_matrix,\n",
    "    recall_score,\n",
    "    accuracy_score,\n",
    "    precision_score,\n",
    "    f1_score,\n",
    ")\n",
    "\n",
    "# To suppress warnings\n",
    "import warnings\n",
    "\n",
    "warnings.filterwarnings(\"ignore\")"
   ]
  },
  {
   "cell_type": "code",
   "execution_count": 3,
   "id": "2000f0e0",
   "metadata": {},
   "outputs": [],
   "source": [
    "#pip install --upgrade scikit-learn"
   ]
  },
  {
   "cell_type": "code",
   "execution_count": 4,
   "id": "8996365e",
   "metadata": {},
   "outputs": [],
   "source": [
    "from sklearn.metrics import confusion_matrix, ConfusionMatrixDisplay"
   ]
  },
  {
   "cell_type": "markdown",
   "id": "bc450c97",
   "metadata": {},
   "source": [
    "# Imblearn installation"
   ]
  },
  {
   "cell_type": "code",
   "execution_count": 5,
   "id": "6f6435d4",
   "metadata": {},
   "outputs": [
    {
     "name": "stdout",
     "output_type": "stream",
     "text": [
      "Requirement already satisfied: imblearn in c:\\users\\owner\\appdata\\roaming\\python\\python39\\site-packages (0.0)\n",
      "Requirement already satisfied: imbalanced-learn in c:\\users\\owner\\appdata\\roaming\\python\\python39\\site-packages (from imblearn) (0.9.1)\n",
      "Requirement already satisfied: joblib>=1.0.0 in c:\\users\\owner\\anaconda3\\lib\\site-packages (from imbalanced-learn->imblearn) (1.2.0)\n",
      "Requirement already satisfied: scikit-learn>=1.1.0 in c:\\users\\owner\\anaconda3\\lib\\site-packages (from imbalanced-learn->imblearn) (1.2.2)\n",
      "Requirement already satisfied: threadpoolctl>=2.0.0 in c:\\users\\owner\\anaconda3\\lib\\site-packages (from imbalanced-learn->imblearn) (3.1.0)\n",
      "Requirement already satisfied: scipy>=1.3.2 in c:\\users\\owner\\anaconda3\\lib\\site-packages (from imbalanced-learn->imblearn) (1.10.1)\n",
      "Requirement already satisfied: numpy>=1.17.3 in c:\\users\\owner\\anaconda3\\lib\\site-packages (from imbalanced-learn->imblearn) (1.24.3)\n",
      "Requirement already satisfied: imbalanced-learn in c:\\users\\owner\\appdata\\roaming\\python\\python39\\site-packages (0.9.1)\n",
      "Requirement already satisfied: scikit-learn>=1.1.0 in c:\\users\\owner\\anaconda3\\lib\\site-packages (from imbalanced-learn) (1.2.2)\n",
      "Requirement already satisfied: threadpoolctl>=2.0.0 in c:\\users\\owner\\anaconda3\\lib\\site-packages (from imbalanced-learn) (3.1.0)\n",
      "Requirement already satisfied: scipy>=1.3.2 in c:\\users\\owner\\anaconda3\\lib\\site-packages (from imbalanced-learn) (1.10.1)\n",
      "Requirement already satisfied: joblib>=1.0.0 in c:\\users\\owner\\anaconda3\\lib\\site-packages (from imbalanced-learn) (1.2.0)\n",
      "Requirement already satisfied: numpy>=1.17.3 in c:\\users\\owner\\anaconda3\\lib\\site-packages (from imbalanced-learn) (1.24.3)\n"
     ]
    }
   ],
   "source": [
    "# Imblearn libary is used to handle imbalanced data\n",
    "\n",
    "# Jupyter notebook\n",
    "!pip install imblearn --user\n",
    "\n",
    "!pip install imbalanced-learn --user\n",
    "\n",
    "# Anaconda prompt\n",
    "#!pip install -U imbalanced-learn\n",
    "\n",
    "#conda install -c conda-forge imbalanced-learn\n",
    "\n",
    "# Restart the kernel after successful installation of the library"
   ]
  },
  {
   "cell_type": "code",
   "execution_count": 6,
   "id": "f2db8a9d",
   "metadata": {},
   "outputs": [],
   "source": [
    "# To undersample and oversample the data\n",
    "from imblearn.over_sampling import SMOTE\n",
    "from imblearn.under_sampling import RandomUnderSampler"
   ]
  },
  {
   "cell_type": "code",
   "execution_count": null,
   "id": "36f1b5a0",
   "metadata": {},
   "outputs": [],
   "source": []
  },
  {
   "cell_type": "markdown",
   "id": "85d34800",
   "metadata": {},
   "source": [
    "# Read the dataset"
   ]
  },
  {
   "cell_type": "code",
   "execution_count": 7,
   "id": "0a2e1682",
   "metadata": {},
   "outputs": [],
   "source": [
    "data1 = pd.read_csv(\"previous_application.csv\")"
   ]
  },
  {
   "cell_type": "code",
   "execution_count": 8,
   "id": "c5b7d676",
   "metadata": {},
   "outputs": [],
   "source": [
    "# copying data to another varaible to avoid any changes to original data\n",
    "previous_app = data1.copy()\n"
   ]
  },
  {
   "cell_type": "code",
   "execution_count": 9,
   "id": "c01b8778",
   "metadata": {},
   "outputs": [
    {
     "name": "stdout",
     "output_type": "stream",
     "text": [
      "<class 'pandas.core.frame.DataFrame'>\n",
      "RangeIndex: 1670214 entries, 0 to 1670213\n",
      "Data columns (total 37 columns):\n",
      " #   Column                       Non-Null Count    Dtype  \n",
      "---  ------                       --------------    -----  \n",
      " 0   SK_ID_PREV                   1670214 non-null  int64  \n",
      " 1   SK_ID_CURR                   1670214 non-null  int64  \n",
      " 2   NAME_CONTRACT_TYPE           1670214 non-null  object \n",
      " 3   AMT_ANNUITY                  1297979 non-null  float64\n",
      " 4   AMT_APPLICATION              1670214 non-null  float64\n",
      " 5   AMT_CREDIT                   1670213 non-null  float64\n",
      " 6   AMT_DOWN_PAYMENT             774370 non-null   float64\n",
      " 7   AMT_GOODS_PRICE              1284699 non-null  float64\n",
      " 8   WEEKDAY_APPR_PROCESS_START   1670214 non-null  object \n",
      " 9   HOUR_APPR_PROCESS_START      1670214 non-null  int64  \n",
      " 10  FLAG_LAST_APPL_PER_CONTRACT  1670214 non-null  object \n",
      " 11  NFLAG_LAST_APPL_IN_DAY       1670214 non-null  int64  \n",
      " 12  RATE_DOWN_PAYMENT            774370 non-null   float64\n",
      " 13  RATE_INTEREST_PRIMARY        5951 non-null     float64\n",
      " 14  RATE_INTEREST_PRIVILEGED     5951 non-null     float64\n",
      " 15  NAME_CASH_LOAN_PURPOSE       1670214 non-null  object \n",
      " 16  NAME_CONTRACT_STATUS         1670214 non-null  object \n",
      " 17  DAYS_DECISION                1670214 non-null  int64  \n",
      " 18  NAME_PAYMENT_TYPE            1670214 non-null  object \n",
      " 19  CODE_REJECT_REASON           1670214 non-null  object \n",
      " 20  NAME_TYPE_SUITE              849809 non-null   object \n",
      " 21  NAME_CLIENT_TYPE             1670214 non-null  object \n",
      " 22  NAME_GOODS_CATEGORY          1670214 non-null  object \n",
      " 23  NAME_PORTFOLIO               1670214 non-null  object \n",
      " 24  NAME_PRODUCT_TYPE            1670214 non-null  object \n",
      " 25  CHANNEL_TYPE                 1670214 non-null  object \n",
      " 26  SELLERPLACE_AREA             1670214 non-null  int64  \n",
      " 27  NAME_SELLER_INDUSTRY         1670214 non-null  object \n",
      " 28  CNT_PAYMENT                  1297984 non-null  float64\n",
      " 29  NAME_YIELD_GROUP             1670214 non-null  object \n",
      " 30  PRODUCT_COMBINATION          1669868 non-null  object \n",
      " 31  DAYS_FIRST_DRAWING           997149 non-null   float64\n",
      " 32  DAYS_FIRST_DUE               997149 non-null   float64\n",
      " 33  DAYS_LAST_DUE_1ST_VERSION    997149 non-null   float64\n",
      " 34  DAYS_LAST_DUE                997149 non-null   float64\n",
      " 35  DAYS_TERMINATION             997149 non-null   float64\n",
      " 36  NFLAG_INSURED_ON_APPROVAL    997149 non-null   float64\n",
      "dtypes: float64(15), int64(6), object(16)\n",
      "memory usage: 471.5+ MB\n"
     ]
    }
   ],
   "source": [
    "previous_app.info()"
   ]
  },
  {
   "cell_type": "code",
   "execution_count": 10,
   "id": "e7a83de7",
   "metadata": {},
   "outputs": [
    {
     "data": {
      "text/plain": [
       "(1670214, 37)"
      ]
     },
     "execution_count": 10,
     "metadata": {},
     "output_type": "execute_result"
    }
   ],
   "source": [
    "previous_app.shape"
   ]
  },
  {
   "cell_type": "code",
   "execution_count": 11,
   "id": "e99ef459",
   "metadata": {},
   "outputs": [
    {
     "name": "stdout",
     "output_type": "stream",
     "text": [
      "['SK_ID_PREV', 'SK_ID_CURR', 'NAME_CONTRACT_TYPE', 'AMT_ANNUITY', 'AMT_APPLICATION', 'AMT_CREDIT', 'AMT_DOWN_PAYMENT', 'AMT_GOODS_PRICE', 'WEEKDAY_APPR_PROCESS_START', 'HOUR_APPR_PROCESS_START', 'FLAG_LAST_APPL_PER_CONTRACT', 'NFLAG_LAST_APPL_IN_DAY', 'RATE_DOWN_PAYMENT', 'RATE_INTEREST_PRIMARY', 'RATE_INTEREST_PRIVILEGED', 'NAME_CASH_LOAN_PURPOSE', 'NAME_CONTRACT_STATUS', 'DAYS_DECISION', 'NAME_PAYMENT_TYPE', 'CODE_REJECT_REASON', 'NAME_TYPE_SUITE', 'NAME_CLIENT_TYPE', 'NAME_GOODS_CATEGORY', 'NAME_PORTFOLIO', 'NAME_PRODUCT_TYPE', 'CHANNEL_TYPE', 'SELLERPLACE_AREA', 'NAME_SELLER_INDUSTRY', 'CNT_PAYMENT', 'NAME_YIELD_GROUP', 'PRODUCT_COMBINATION', 'DAYS_FIRST_DRAWING', 'DAYS_FIRST_DUE', 'DAYS_LAST_DUE_1ST_VERSION', 'DAYS_LAST_DUE', 'DAYS_TERMINATION', 'NFLAG_INSURED_ON_APPROVAL']\n"
     ]
    }
   ],
   "source": [
    "# using .tolist makes Python print all columns, instead of using ellipsis\n",
    "# We could also configure pandas to do the same.\n",
    "print(previous_app.columns.tolist())"
   ]
  },
  {
   "cell_type": "code",
   "execution_count": 12,
   "id": "3e92ae5a",
   "metadata": {},
   "outputs": [
    {
     "data": {
      "text/html": [
       "<div>\n",
       "<style scoped>\n",
       "    .dataframe tbody tr th:only-of-type {\n",
       "        vertical-align: middle;\n",
       "    }\n",
       "\n",
       "    .dataframe tbody tr th {\n",
       "        vertical-align: top;\n",
       "    }\n",
       "\n",
       "    .dataframe thead th {\n",
       "        text-align: right;\n",
       "    }\n",
       "</style>\n",
       "<table border=\"1\" class=\"dataframe\">\n",
       "  <thead>\n",
       "    <tr style=\"text-align: right;\">\n",
       "      <th></th>\n",
       "      <th>SK_ID_PREV</th>\n",
       "      <th>SK_ID_CURR</th>\n",
       "      <th>NAME_CONTRACT_TYPE</th>\n",
       "      <th>AMT_ANNUITY</th>\n",
       "      <th>AMT_APPLICATION</th>\n",
       "      <th>AMT_CREDIT</th>\n",
       "      <th>AMT_DOWN_PAYMENT</th>\n",
       "      <th>AMT_GOODS_PRICE</th>\n",
       "      <th>WEEKDAY_APPR_PROCESS_START</th>\n",
       "      <th>HOUR_APPR_PROCESS_START</th>\n",
       "      <th>FLAG_LAST_APPL_PER_CONTRACT</th>\n",
       "      <th>NFLAG_LAST_APPL_IN_DAY</th>\n",
       "      <th>RATE_DOWN_PAYMENT</th>\n",
       "      <th>RATE_INTEREST_PRIMARY</th>\n",
       "      <th>RATE_INTEREST_PRIVILEGED</th>\n",
       "      <th>NAME_CASH_LOAN_PURPOSE</th>\n",
       "      <th>NAME_CONTRACT_STATUS</th>\n",
       "      <th>DAYS_DECISION</th>\n",
       "      <th>NAME_PAYMENT_TYPE</th>\n",
       "      <th>CODE_REJECT_REASON</th>\n",
       "      <th>NAME_TYPE_SUITE</th>\n",
       "      <th>NAME_CLIENT_TYPE</th>\n",
       "      <th>NAME_GOODS_CATEGORY</th>\n",
       "      <th>NAME_PORTFOLIO</th>\n",
       "      <th>NAME_PRODUCT_TYPE</th>\n",
       "      <th>CHANNEL_TYPE</th>\n",
       "      <th>SELLERPLACE_AREA</th>\n",
       "      <th>NAME_SELLER_INDUSTRY</th>\n",
       "      <th>CNT_PAYMENT</th>\n",
       "      <th>NAME_YIELD_GROUP</th>\n",
       "      <th>PRODUCT_COMBINATION</th>\n",
       "      <th>DAYS_FIRST_DRAWING</th>\n",
       "      <th>DAYS_FIRST_DUE</th>\n",
       "      <th>DAYS_LAST_DUE_1ST_VERSION</th>\n",
       "      <th>DAYS_LAST_DUE</th>\n",
       "      <th>DAYS_TERMINATION</th>\n",
       "      <th>NFLAG_INSURED_ON_APPROVAL</th>\n",
       "    </tr>\n",
       "  </thead>\n",
       "  <tbody>\n",
       "    <tr>\n",
       "      <th>0</th>\n",
       "      <td>2030495</td>\n",
       "      <td>271877</td>\n",
       "      <td>Consumer loans</td>\n",
       "      <td>1730.430</td>\n",
       "      <td>17145.0</td>\n",
       "      <td>17145.0</td>\n",
       "      <td>0.0</td>\n",
       "      <td>17145.0</td>\n",
       "      <td>SATURDAY</td>\n",
       "      <td>15</td>\n",
       "      <td>Y</td>\n",
       "      <td>1</td>\n",
       "      <td>0.0</td>\n",
       "      <td>0.182832</td>\n",
       "      <td>0.867336</td>\n",
       "      <td>XAP</td>\n",
       "      <td>Approved</td>\n",
       "      <td>-73</td>\n",
       "      <td>Cash through the bank</td>\n",
       "      <td>XAP</td>\n",
       "      <td>NaN</td>\n",
       "      <td>Repeater</td>\n",
       "      <td>Mobile</td>\n",
       "      <td>POS</td>\n",
       "      <td>XNA</td>\n",
       "      <td>Country-wide</td>\n",
       "      <td>35</td>\n",
       "      <td>Connectivity</td>\n",
       "      <td>12.0</td>\n",
       "      <td>middle</td>\n",
       "      <td>POS mobile with interest</td>\n",
       "      <td>365243.0</td>\n",
       "      <td>-42.0</td>\n",
       "      <td>300.0</td>\n",
       "      <td>-42.0</td>\n",
       "      <td>-37.0</td>\n",
       "      <td>0.0</td>\n",
       "    </tr>\n",
       "    <tr>\n",
       "      <th>1</th>\n",
       "      <td>2802425</td>\n",
       "      <td>108129</td>\n",
       "      <td>Cash loans</td>\n",
       "      <td>25188.615</td>\n",
       "      <td>607500.0</td>\n",
       "      <td>679671.0</td>\n",
       "      <td>NaN</td>\n",
       "      <td>607500.0</td>\n",
       "      <td>THURSDAY</td>\n",
       "      <td>11</td>\n",
       "      <td>Y</td>\n",
       "      <td>1</td>\n",
       "      <td>NaN</td>\n",
       "      <td>NaN</td>\n",
       "      <td>NaN</td>\n",
       "      <td>XNA</td>\n",
       "      <td>Approved</td>\n",
       "      <td>-164</td>\n",
       "      <td>XNA</td>\n",
       "      <td>XAP</td>\n",
       "      <td>Unaccompanied</td>\n",
       "      <td>Repeater</td>\n",
       "      <td>XNA</td>\n",
       "      <td>Cash</td>\n",
       "      <td>x-sell</td>\n",
       "      <td>Contact center</td>\n",
       "      <td>-1</td>\n",
       "      <td>XNA</td>\n",
       "      <td>36.0</td>\n",
       "      <td>low_action</td>\n",
       "      <td>Cash X-Sell: low</td>\n",
       "      <td>365243.0</td>\n",
       "      <td>-134.0</td>\n",
       "      <td>916.0</td>\n",
       "      <td>365243.0</td>\n",
       "      <td>365243.0</td>\n",
       "      <td>1.0</td>\n",
       "    </tr>\n",
       "    <tr>\n",
       "      <th>2</th>\n",
       "      <td>2523466</td>\n",
       "      <td>122040</td>\n",
       "      <td>Cash loans</td>\n",
       "      <td>15060.735</td>\n",
       "      <td>112500.0</td>\n",
       "      <td>136444.5</td>\n",
       "      <td>NaN</td>\n",
       "      <td>112500.0</td>\n",
       "      <td>TUESDAY</td>\n",
       "      <td>11</td>\n",
       "      <td>Y</td>\n",
       "      <td>1</td>\n",
       "      <td>NaN</td>\n",
       "      <td>NaN</td>\n",
       "      <td>NaN</td>\n",
       "      <td>XNA</td>\n",
       "      <td>Approved</td>\n",
       "      <td>-301</td>\n",
       "      <td>Cash through the bank</td>\n",
       "      <td>XAP</td>\n",
       "      <td>Spouse, partner</td>\n",
       "      <td>Repeater</td>\n",
       "      <td>XNA</td>\n",
       "      <td>Cash</td>\n",
       "      <td>x-sell</td>\n",
       "      <td>Credit and cash offices</td>\n",
       "      <td>-1</td>\n",
       "      <td>XNA</td>\n",
       "      <td>12.0</td>\n",
       "      <td>high</td>\n",
       "      <td>Cash X-Sell: high</td>\n",
       "      <td>365243.0</td>\n",
       "      <td>-271.0</td>\n",
       "      <td>59.0</td>\n",
       "      <td>365243.0</td>\n",
       "      <td>365243.0</td>\n",
       "      <td>1.0</td>\n",
       "    </tr>\n",
       "    <tr>\n",
       "      <th>3</th>\n",
       "      <td>2819243</td>\n",
       "      <td>176158</td>\n",
       "      <td>Cash loans</td>\n",
       "      <td>47041.335</td>\n",
       "      <td>450000.0</td>\n",
       "      <td>470790.0</td>\n",
       "      <td>NaN</td>\n",
       "      <td>450000.0</td>\n",
       "      <td>MONDAY</td>\n",
       "      <td>7</td>\n",
       "      <td>Y</td>\n",
       "      <td>1</td>\n",
       "      <td>NaN</td>\n",
       "      <td>NaN</td>\n",
       "      <td>NaN</td>\n",
       "      <td>XNA</td>\n",
       "      <td>Approved</td>\n",
       "      <td>-512</td>\n",
       "      <td>Cash through the bank</td>\n",
       "      <td>XAP</td>\n",
       "      <td>NaN</td>\n",
       "      <td>Repeater</td>\n",
       "      <td>XNA</td>\n",
       "      <td>Cash</td>\n",
       "      <td>x-sell</td>\n",
       "      <td>Credit and cash offices</td>\n",
       "      <td>-1</td>\n",
       "      <td>XNA</td>\n",
       "      <td>12.0</td>\n",
       "      <td>middle</td>\n",
       "      <td>Cash X-Sell: middle</td>\n",
       "      <td>365243.0</td>\n",
       "      <td>-482.0</td>\n",
       "      <td>-152.0</td>\n",
       "      <td>-182.0</td>\n",
       "      <td>-177.0</td>\n",
       "      <td>1.0</td>\n",
       "    </tr>\n",
       "    <tr>\n",
       "      <th>4</th>\n",
       "      <td>1784265</td>\n",
       "      <td>202054</td>\n",
       "      <td>Cash loans</td>\n",
       "      <td>31924.395</td>\n",
       "      <td>337500.0</td>\n",
       "      <td>404055.0</td>\n",
       "      <td>NaN</td>\n",
       "      <td>337500.0</td>\n",
       "      <td>THURSDAY</td>\n",
       "      <td>9</td>\n",
       "      <td>Y</td>\n",
       "      <td>1</td>\n",
       "      <td>NaN</td>\n",
       "      <td>NaN</td>\n",
       "      <td>NaN</td>\n",
       "      <td>Repairs</td>\n",
       "      <td>Refused</td>\n",
       "      <td>-781</td>\n",
       "      <td>Cash through the bank</td>\n",
       "      <td>HC</td>\n",
       "      <td>NaN</td>\n",
       "      <td>Repeater</td>\n",
       "      <td>XNA</td>\n",
       "      <td>Cash</td>\n",
       "      <td>walk-in</td>\n",
       "      <td>Credit and cash offices</td>\n",
       "      <td>-1</td>\n",
       "      <td>XNA</td>\n",
       "      <td>24.0</td>\n",
       "      <td>high</td>\n",
       "      <td>Cash Street: high</td>\n",
       "      <td>NaN</td>\n",
       "      <td>NaN</td>\n",
       "      <td>NaN</td>\n",
       "      <td>NaN</td>\n",
       "      <td>NaN</td>\n",
       "      <td>NaN</td>\n",
       "    </tr>\n",
       "  </tbody>\n",
       "</table>\n",
       "</div>"
      ],
      "text/plain": [
       "   SK_ID_PREV  SK_ID_CURR NAME_CONTRACT_TYPE  AMT_ANNUITY  AMT_APPLICATION  \\\n",
       "0     2030495      271877     Consumer loans     1730.430          17145.0   \n",
       "1     2802425      108129         Cash loans    25188.615         607500.0   \n",
       "2     2523466      122040         Cash loans    15060.735         112500.0   \n",
       "3     2819243      176158         Cash loans    47041.335         450000.0   \n",
       "4     1784265      202054         Cash loans    31924.395         337500.0   \n",
       "\n",
       "   AMT_CREDIT  AMT_DOWN_PAYMENT  AMT_GOODS_PRICE WEEKDAY_APPR_PROCESS_START  \\\n",
       "0     17145.0               0.0          17145.0                   SATURDAY   \n",
       "1    679671.0               NaN         607500.0                   THURSDAY   \n",
       "2    136444.5               NaN         112500.0                    TUESDAY   \n",
       "3    470790.0               NaN         450000.0                     MONDAY   \n",
       "4    404055.0               NaN         337500.0                   THURSDAY   \n",
       "\n",
       "   HOUR_APPR_PROCESS_START FLAG_LAST_APPL_PER_CONTRACT  \\\n",
       "0                       15                           Y   \n",
       "1                       11                           Y   \n",
       "2                       11                           Y   \n",
       "3                        7                           Y   \n",
       "4                        9                           Y   \n",
       "\n",
       "   NFLAG_LAST_APPL_IN_DAY  RATE_DOWN_PAYMENT  RATE_INTEREST_PRIMARY  \\\n",
       "0                       1                0.0               0.182832   \n",
       "1                       1                NaN                    NaN   \n",
       "2                       1                NaN                    NaN   \n",
       "3                       1                NaN                    NaN   \n",
       "4                       1                NaN                    NaN   \n",
       "\n",
       "   RATE_INTEREST_PRIVILEGED NAME_CASH_LOAN_PURPOSE NAME_CONTRACT_STATUS  \\\n",
       "0                  0.867336                    XAP             Approved   \n",
       "1                       NaN                    XNA             Approved   \n",
       "2                       NaN                    XNA             Approved   \n",
       "3                       NaN                    XNA             Approved   \n",
       "4                       NaN                Repairs              Refused   \n",
       "\n",
       "   DAYS_DECISION      NAME_PAYMENT_TYPE CODE_REJECT_REASON  NAME_TYPE_SUITE  \\\n",
       "0            -73  Cash through the bank                XAP              NaN   \n",
       "1           -164                    XNA                XAP    Unaccompanied   \n",
       "2           -301  Cash through the bank                XAP  Spouse, partner   \n",
       "3           -512  Cash through the bank                XAP              NaN   \n",
       "4           -781  Cash through the bank                 HC              NaN   \n",
       "\n",
       "  NAME_CLIENT_TYPE NAME_GOODS_CATEGORY NAME_PORTFOLIO NAME_PRODUCT_TYPE  \\\n",
       "0         Repeater              Mobile            POS               XNA   \n",
       "1         Repeater                 XNA           Cash            x-sell   \n",
       "2         Repeater                 XNA           Cash            x-sell   \n",
       "3         Repeater                 XNA           Cash            x-sell   \n",
       "4         Repeater                 XNA           Cash           walk-in   \n",
       "\n",
       "              CHANNEL_TYPE  SELLERPLACE_AREA NAME_SELLER_INDUSTRY  \\\n",
       "0             Country-wide                35         Connectivity   \n",
       "1           Contact center                -1                  XNA   \n",
       "2  Credit and cash offices                -1                  XNA   \n",
       "3  Credit and cash offices                -1                  XNA   \n",
       "4  Credit and cash offices                -1                  XNA   \n",
       "\n",
       "   CNT_PAYMENT NAME_YIELD_GROUP       PRODUCT_COMBINATION  DAYS_FIRST_DRAWING  \\\n",
       "0         12.0           middle  POS mobile with interest            365243.0   \n",
       "1         36.0       low_action          Cash X-Sell: low            365243.0   \n",
       "2         12.0             high         Cash X-Sell: high            365243.0   \n",
       "3         12.0           middle       Cash X-Sell: middle            365243.0   \n",
       "4         24.0             high         Cash Street: high                 NaN   \n",
       "\n",
       "   DAYS_FIRST_DUE  DAYS_LAST_DUE_1ST_VERSION  DAYS_LAST_DUE  DAYS_TERMINATION  \\\n",
       "0           -42.0                      300.0          -42.0             -37.0   \n",
       "1          -134.0                      916.0       365243.0          365243.0   \n",
       "2          -271.0                       59.0       365243.0          365243.0   \n",
       "3          -482.0                     -152.0         -182.0            -177.0   \n",
       "4             NaN                        NaN            NaN               NaN   \n",
       "\n",
       "   NFLAG_INSURED_ON_APPROVAL  \n",
       "0                        0.0  \n",
       "1                        1.0  \n",
       "2                        1.0  \n",
       "3                        1.0  \n",
       "4                        NaN  "
      ]
     },
     "execution_count": 12,
     "metadata": {},
     "output_type": "execute_result"
    }
   ],
   "source": [
    "previous_app.head()"
   ]
  },
  {
   "cell_type": "code",
   "execution_count": null,
   "id": "53bee712",
   "metadata": {},
   "outputs": [],
   "source": []
  },
  {
   "cell_type": "code",
   "execution_count": 13,
   "id": "62f053d8",
   "metadata": {},
   "outputs": [
    {
     "data": {
      "text/plain": [
       "XAP       1353093\n",
       "HC         175231\n",
       "LIMIT       55680\n",
       "SCO         37467\n",
       "CLIENT      26436\n",
       "SCOFR       12811\n",
       "XNA          5244\n",
       "VERIF        3535\n",
       "SYSTEM        717\n",
       "Name: CODE_REJECT_REASON, dtype: int64"
      ]
     },
     "execution_count": 13,
     "metadata": {},
     "output_type": "execute_result"
    }
   ],
   "source": [
    "# CODE_REJECT_REASON -    Why was the previous application rejected\n",
    "previous_app['CODE_REJECT_REASON'].value_counts()"
   ]
  },
  {
   "cell_type": "code",
   "execution_count": 14,
   "id": "e1a71952",
   "metadata": {},
   "outputs": [
    {
     "data": {
      "text/plain": [
       "Approved        1036781\n",
       "Canceled         316319\n",
       "Refused          290678\n",
       "Unused offer      26436\n",
       "Name: NAME_CONTRACT_STATUS, dtype: int64"
      ]
     },
     "execution_count": 14,
     "metadata": {},
     "output_type": "execute_result"
    }
   ],
   "source": [
    "# NAME_CONTRACT_STATUS - Contract status (approved, cancelled, ...) of previous application\n",
    "previous_app['NAME_CONTRACT_STATUS'].value_counts()"
   ]
  },
  {
   "cell_type": "code",
   "execution_count": null,
   "id": "f8303305",
   "metadata": {},
   "outputs": [],
   "source": []
  },
  {
   "cell_type": "markdown",
   "id": "f9505f70",
   "metadata": {},
   "source": [
    "# CREATE DATEFRAME FOR PLOTS AFTER DECIDING ON VARIABLES"
   ]
  },
  {
   "cell_type": "code",
   "execution_count": 15,
   "id": "7b5b0447",
   "metadata": {},
   "outputs": [],
   "source": [
    "data=previous_app"
   ]
  },
  {
   "cell_type": "markdown",
   "id": "43f7cbb2",
   "metadata": {},
   "source": [
    "# MISSING VALUE"
   ]
  },
  {
   "cell_type": "code",
   "execution_count": 16,
   "id": "a6263fd8",
   "metadata": {},
   "outputs": [],
   "source": [
    "def missing_values_table(df):\n",
    "    mis_val = df.isnull().sum()\n",
    "    \n",
    "    mis_val_percent = 100*df.isnull().sum() / len(df)\n",
    "    \n",
    "    mis_val_table =pd.concat([mis_val, mis_val_percent], axis=1)\n",
    "    \n",
    "    mis_val_table_ren_columns = mis_val_table.rename(\n",
    "        columns = {0 : 'Missing Values', 1 : '% of Total Values'})\n",
    "    \n",
    "    mis_val_table_ren_columns = mis_val_table_ren_columns[mis_val_table_ren_columns.iloc[:,1] !=0].sort_values(\n",
    "    '% of Total Values', ascending = False).round(1)\n",
    "    \n",
    "    print('Your selected dataframe has' + str(df.shape[1])+ 'columns.\\n'\n",
    "         \"There are\" + str(mis_val_table_ren_columns.shape[0])+ 'columns that have missing values.')\n",
    "    \n",
    "    return mis_val_table_ren_columns"
   ]
  },
  {
   "cell_type": "code",
   "execution_count": 17,
   "id": "f3549814",
   "metadata": {},
   "outputs": [
    {
     "name": "stdout",
     "output_type": "stream",
     "text": [
      "Your selected dataframe has37columns.\n",
      "There are16columns that have missing values.\n"
     ]
    },
    {
     "data": {
      "text/html": [
       "<div>\n",
       "<style scoped>\n",
       "    .dataframe tbody tr th:only-of-type {\n",
       "        vertical-align: middle;\n",
       "    }\n",
       "\n",
       "    .dataframe tbody tr th {\n",
       "        vertical-align: top;\n",
       "    }\n",
       "\n",
       "    .dataframe thead th {\n",
       "        text-align: right;\n",
       "    }\n",
       "</style>\n",
       "<table border=\"1\" class=\"dataframe\">\n",
       "  <thead>\n",
       "    <tr style=\"text-align: right;\">\n",
       "      <th></th>\n",
       "      <th>Missing Values</th>\n",
       "      <th>% of Total Values</th>\n",
       "    </tr>\n",
       "  </thead>\n",
       "  <tbody>\n",
       "    <tr>\n",
       "      <th>RATE_INTEREST_PRIMARY</th>\n",
       "      <td>1664263</td>\n",
       "      <td>99.6</td>\n",
       "    </tr>\n",
       "    <tr>\n",
       "      <th>RATE_INTEREST_PRIVILEGED</th>\n",
       "      <td>1664263</td>\n",
       "      <td>99.6</td>\n",
       "    </tr>\n",
       "    <tr>\n",
       "      <th>AMT_DOWN_PAYMENT</th>\n",
       "      <td>895844</td>\n",
       "      <td>53.6</td>\n",
       "    </tr>\n",
       "    <tr>\n",
       "      <th>RATE_DOWN_PAYMENT</th>\n",
       "      <td>895844</td>\n",
       "      <td>53.6</td>\n",
       "    </tr>\n",
       "    <tr>\n",
       "      <th>NAME_TYPE_SUITE</th>\n",
       "      <td>820405</td>\n",
       "      <td>49.1</td>\n",
       "    </tr>\n",
       "    <tr>\n",
       "      <th>DAYS_FIRST_DRAWING</th>\n",
       "      <td>673065</td>\n",
       "      <td>40.3</td>\n",
       "    </tr>\n",
       "    <tr>\n",
       "      <th>DAYS_FIRST_DUE</th>\n",
       "      <td>673065</td>\n",
       "      <td>40.3</td>\n",
       "    </tr>\n",
       "    <tr>\n",
       "      <th>DAYS_LAST_DUE_1ST_VERSION</th>\n",
       "      <td>673065</td>\n",
       "      <td>40.3</td>\n",
       "    </tr>\n",
       "    <tr>\n",
       "      <th>DAYS_LAST_DUE</th>\n",
       "      <td>673065</td>\n",
       "      <td>40.3</td>\n",
       "    </tr>\n",
       "    <tr>\n",
       "      <th>DAYS_TERMINATION</th>\n",
       "      <td>673065</td>\n",
       "      <td>40.3</td>\n",
       "    </tr>\n",
       "    <tr>\n",
       "      <th>NFLAG_INSURED_ON_APPROVAL</th>\n",
       "      <td>673065</td>\n",
       "      <td>40.3</td>\n",
       "    </tr>\n",
       "    <tr>\n",
       "      <th>AMT_GOODS_PRICE</th>\n",
       "      <td>385515</td>\n",
       "      <td>23.1</td>\n",
       "    </tr>\n",
       "    <tr>\n",
       "      <th>AMT_ANNUITY</th>\n",
       "      <td>372235</td>\n",
       "      <td>22.3</td>\n",
       "    </tr>\n",
       "    <tr>\n",
       "      <th>CNT_PAYMENT</th>\n",
       "      <td>372230</td>\n",
       "      <td>22.3</td>\n",
       "    </tr>\n",
       "    <tr>\n",
       "      <th>PRODUCT_COMBINATION</th>\n",
       "      <td>346</td>\n",
       "      <td>0.0</td>\n",
       "    </tr>\n",
       "    <tr>\n",
       "      <th>AMT_CREDIT</th>\n",
       "      <td>1</td>\n",
       "      <td>0.0</td>\n",
       "    </tr>\n",
       "  </tbody>\n",
       "</table>\n",
       "</div>"
      ],
      "text/plain": [
       "                           Missing Values  % of Total Values\n",
       "RATE_INTEREST_PRIMARY             1664263               99.6\n",
       "RATE_INTEREST_PRIVILEGED          1664263               99.6\n",
       "AMT_DOWN_PAYMENT                   895844               53.6\n",
       "RATE_DOWN_PAYMENT                  895844               53.6\n",
       "NAME_TYPE_SUITE                    820405               49.1\n",
       "DAYS_FIRST_DRAWING                 673065               40.3\n",
       "DAYS_FIRST_DUE                     673065               40.3\n",
       "DAYS_LAST_DUE_1ST_VERSION          673065               40.3\n",
       "DAYS_LAST_DUE                      673065               40.3\n",
       "DAYS_TERMINATION                   673065               40.3\n",
       "NFLAG_INSURED_ON_APPROVAL          673065               40.3\n",
       "AMT_GOODS_PRICE                    385515               23.1\n",
       "AMT_ANNUITY                        372235               22.3\n",
       "CNT_PAYMENT                        372230               22.3\n",
       "PRODUCT_COMBINATION                   346                0.0\n",
       "AMT_CREDIT                              1                0.0"
      ]
     },
     "execution_count": 17,
     "metadata": {},
     "output_type": "execute_result"
    }
   ],
   "source": [
    "# missing values check\n",
    "missing_values = missing_values_table(previous_app)\n",
    "missing_values.head(20)"
   ]
  },
  {
   "cell_type": "code",
   "execution_count": 18,
   "id": "d195e82a",
   "metadata": {},
   "outputs": [
    {
     "data": {
      "text/plain": [
       "object     16\n",
       "float64    15\n",
       "int64       6\n",
       "dtype: int64"
      ]
     },
     "execution_count": 18,
     "metadata": {},
     "output_type": "execute_result"
    }
   ],
   "source": [
    "# Number of each type of column\n",
    "previous_app.dtypes.value_counts()"
   ]
  },
  {
   "cell_type": "code",
   "execution_count": 19,
   "id": "72c80d84",
   "metadata": {},
   "outputs": [
    {
     "data": {
      "text/plain": [
       "NAME_CONTRACT_TYPE              4\n",
       "WEEKDAY_APPR_PROCESS_START      7\n",
       "FLAG_LAST_APPL_PER_CONTRACT     2\n",
       "NAME_CASH_LOAN_PURPOSE         25\n",
       "NAME_CONTRACT_STATUS            4\n",
       "NAME_PAYMENT_TYPE               4\n",
       "CODE_REJECT_REASON              9\n",
       "NAME_TYPE_SUITE                 7\n",
       "NAME_CLIENT_TYPE                4\n",
       "NAME_GOODS_CATEGORY            28\n",
       "NAME_PORTFOLIO                  5\n",
       "NAME_PRODUCT_TYPE               3\n",
       "CHANNEL_TYPE                    8\n",
       "NAME_SELLER_INDUSTRY           11\n",
       "NAME_YIELD_GROUP                5\n",
       "PRODUCT_COMBINATION            17\n",
       "dtype: int64"
      ]
     },
     "execution_count": 19,
     "metadata": {},
     "output_type": "execute_result"
    }
   ],
   "source": [
    "previous_app.select_dtypes('object').apply(pd.Series.nunique, axis =0)"
   ]
  },
  {
   "cell_type": "code",
   "execution_count": 20,
   "id": "92ecb4e1",
   "metadata": {},
   "outputs": [
    {
     "data": {
      "text/plain": [
       "Approved        1036781\n",
       "Canceled         316319\n",
       "Refused          290678\n",
       "Unused offer      26436\n",
       "Name: NAME_CONTRACT_STATUS, dtype: int64"
      ]
     },
     "execution_count": 20,
     "metadata": {},
     "output_type": "execute_result"
    }
   ],
   "source": [
    "previous_app['NAME_CONTRACT_STATUS'].value_counts()"
   ]
  },
  {
   "cell_type": "code",
   "execution_count": null,
   "id": "32d92d55",
   "metadata": {},
   "outputs": [],
   "source": []
  },
  {
   "cell_type": "markdown",
   "id": "cf214c44",
   "metadata": {},
   "source": [
    "# Encoding Categorical Variables"
   ]
  },
  {
   "cell_type": "markdown",
   "id": "be08ac4a",
   "metadata": {},
   "source": [
    "Approved        1036781\n",
    "Canceled         316319\n",
    "Refused          290678\n",
    "Unused offer      26436"
   ]
  },
  {
   "cell_type": "code",
   "execution_count": 21,
   "id": "725930d3",
   "metadata": {},
   "outputs": [],
   "source": [
    "# Label Encode categorical variables\n",
    "Status = {\"Approved\": 0, \"Canceled\": 1,\"Refused\": 1,\"Unused offer\": 1}\n",
    "previous_app[\"NAME_CONTRACT_STATUS\"] = previous_app[\"NAME_CONTRACT_STATUS\"].map(Status)"
   ]
  },
  {
   "cell_type": "code",
   "execution_count": 22,
   "id": "7793b779",
   "metadata": {},
   "outputs": [
    {
     "data": {
      "text/html": [
       "<div>\n",
       "<style scoped>\n",
       "    .dataframe tbody tr th:only-of-type {\n",
       "        vertical-align: middle;\n",
       "    }\n",
       "\n",
       "    .dataframe tbody tr th {\n",
       "        vertical-align: top;\n",
       "    }\n",
       "\n",
       "    .dataframe thead th {\n",
       "        text-align: right;\n",
       "    }\n",
       "</style>\n",
       "<table border=\"1\" class=\"dataframe\">\n",
       "  <thead>\n",
       "    <tr style=\"text-align: right;\">\n",
       "      <th></th>\n",
       "      <th>SK_ID_PREV</th>\n",
       "      <th>SK_ID_CURR</th>\n",
       "      <th>NAME_CONTRACT_TYPE</th>\n",
       "      <th>AMT_ANNUITY</th>\n",
       "      <th>AMT_APPLICATION</th>\n",
       "      <th>AMT_CREDIT</th>\n",
       "      <th>AMT_DOWN_PAYMENT</th>\n",
       "      <th>AMT_GOODS_PRICE</th>\n",
       "      <th>WEEKDAY_APPR_PROCESS_START</th>\n",
       "      <th>HOUR_APPR_PROCESS_START</th>\n",
       "      <th>FLAG_LAST_APPL_PER_CONTRACT</th>\n",
       "      <th>NFLAG_LAST_APPL_IN_DAY</th>\n",
       "      <th>RATE_DOWN_PAYMENT</th>\n",
       "      <th>RATE_INTEREST_PRIMARY</th>\n",
       "      <th>RATE_INTEREST_PRIVILEGED</th>\n",
       "      <th>NAME_CASH_LOAN_PURPOSE</th>\n",
       "      <th>NAME_CONTRACT_STATUS</th>\n",
       "      <th>DAYS_DECISION</th>\n",
       "      <th>NAME_PAYMENT_TYPE</th>\n",
       "      <th>CODE_REJECT_REASON</th>\n",
       "      <th>NAME_TYPE_SUITE</th>\n",
       "      <th>NAME_CLIENT_TYPE</th>\n",
       "      <th>NAME_GOODS_CATEGORY</th>\n",
       "      <th>NAME_PORTFOLIO</th>\n",
       "      <th>NAME_PRODUCT_TYPE</th>\n",
       "      <th>CHANNEL_TYPE</th>\n",
       "      <th>SELLERPLACE_AREA</th>\n",
       "      <th>NAME_SELLER_INDUSTRY</th>\n",
       "      <th>CNT_PAYMENT</th>\n",
       "      <th>NAME_YIELD_GROUP</th>\n",
       "      <th>PRODUCT_COMBINATION</th>\n",
       "      <th>DAYS_FIRST_DRAWING</th>\n",
       "      <th>DAYS_FIRST_DUE</th>\n",
       "      <th>DAYS_LAST_DUE_1ST_VERSION</th>\n",
       "      <th>DAYS_LAST_DUE</th>\n",
       "      <th>DAYS_TERMINATION</th>\n",
       "      <th>NFLAG_INSURED_ON_APPROVAL</th>\n",
       "    </tr>\n",
       "  </thead>\n",
       "  <tbody>\n",
       "    <tr>\n",
       "      <th>0</th>\n",
       "      <td>2030495</td>\n",
       "      <td>271877</td>\n",
       "      <td>Consumer loans</td>\n",
       "      <td>1730.430</td>\n",
       "      <td>17145.0</td>\n",
       "      <td>17145.0</td>\n",
       "      <td>0.0</td>\n",
       "      <td>17145.0</td>\n",
       "      <td>SATURDAY</td>\n",
       "      <td>15</td>\n",
       "      <td>Y</td>\n",
       "      <td>1</td>\n",
       "      <td>0.0</td>\n",
       "      <td>0.182832</td>\n",
       "      <td>0.867336</td>\n",
       "      <td>XAP</td>\n",
       "      <td>0</td>\n",
       "      <td>-73</td>\n",
       "      <td>Cash through the bank</td>\n",
       "      <td>XAP</td>\n",
       "      <td>NaN</td>\n",
       "      <td>Repeater</td>\n",
       "      <td>Mobile</td>\n",
       "      <td>POS</td>\n",
       "      <td>XNA</td>\n",
       "      <td>Country-wide</td>\n",
       "      <td>35</td>\n",
       "      <td>Connectivity</td>\n",
       "      <td>12.0</td>\n",
       "      <td>middle</td>\n",
       "      <td>POS mobile with interest</td>\n",
       "      <td>365243.0</td>\n",
       "      <td>-42.0</td>\n",
       "      <td>300.0</td>\n",
       "      <td>-42.0</td>\n",
       "      <td>-37.0</td>\n",
       "      <td>0.0</td>\n",
       "    </tr>\n",
       "    <tr>\n",
       "      <th>1</th>\n",
       "      <td>2802425</td>\n",
       "      <td>108129</td>\n",
       "      <td>Cash loans</td>\n",
       "      <td>25188.615</td>\n",
       "      <td>607500.0</td>\n",
       "      <td>679671.0</td>\n",
       "      <td>NaN</td>\n",
       "      <td>607500.0</td>\n",
       "      <td>THURSDAY</td>\n",
       "      <td>11</td>\n",
       "      <td>Y</td>\n",
       "      <td>1</td>\n",
       "      <td>NaN</td>\n",
       "      <td>NaN</td>\n",
       "      <td>NaN</td>\n",
       "      <td>XNA</td>\n",
       "      <td>0</td>\n",
       "      <td>-164</td>\n",
       "      <td>XNA</td>\n",
       "      <td>XAP</td>\n",
       "      <td>Unaccompanied</td>\n",
       "      <td>Repeater</td>\n",
       "      <td>XNA</td>\n",
       "      <td>Cash</td>\n",
       "      <td>x-sell</td>\n",
       "      <td>Contact center</td>\n",
       "      <td>-1</td>\n",
       "      <td>XNA</td>\n",
       "      <td>36.0</td>\n",
       "      <td>low_action</td>\n",
       "      <td>Cash X-Sell: low</td>\n",
       "      <td>365243.0</td>\n",
       "      <td>-134.0</td>\n",
       "      <td>916.0</td>\n",
       "      <td>365243.0</td>\n",
       "      <td>365243.0</td>\n",
       "      <td>1.0</td>\n",
       "    </tr>\n",
       "    <tr>\n",
       "      <th>2</th>\n",
       "      <td>2523466</td>\n",
       "      <td>122040</td>\n",
       "      <td>Cash loans</td>\n",
       "      <td>15060.735</td>\n",
       "      <td>112500.0</td>\n",
       "      <td>136444.5</td>\n",
       "      <td>NaN</td>\n",
       "      <td>112500.0</td>\n",
       "      <td>TUESDAY</td>\n",
       "      <td>11</td>\n",
       "      <td>Y</td>\n",
       "      <td>1</td>\n",
       "      <td>NaN</td>\n",
       "      <td>NaN</td>\n",
       "      <td>NaN</td>\n",
       "      <td>XNA</td>\n",
       "      <td>0</td>\n",
       "      <td>-301</td>\n",
       "      <td>Cash through the bank</td>\n",
       "      <td>XAP</td>\n",
       "      <td>Spouse, partner</td>\n",
       "      <td>Repeater</td>\n",
       "      <td>XNA</td>\n",
       "      <td>Cash</td>\n",
       "      <td>x-sell</td>\n",
       "      <td>Credit and cash offices</td>\n",
       "      <td>-1</td>\n",
       "      <td>XNA</td>\n",
       "      <td>12.0</td>\n",
       "      <td>high</td>\n",
       "      <td>Cash X-Sell: high</td>\n",
       "      <td>365243.0</td>\n",
       "      <td>-271.0</td>\n",
       "      <td>59.0</td>\n",
       "      <td>365243.0</td>\n",
       "      <td>365243.0</td>\n",
       "      <td>1.0</td>\n",
       "    </tr>\n",
       "    <tr>\n",
       "      <th>3</th>\n",
       "      <td>2819243</td>\n",
       "      <td>176158</td>\n",
       "      <td>Cash loans</td>\n",
       "      <td>47041.335</td>\n",
       "      <td>450000.0</td>\n",
       "      <td>470790.0</td>\n",
       "      <td>NaN</td>\n",
       "      <td>450000.0</td>\n",
       "      <td>MONDAY</td>\n",
       "      <td>7</td>\n",
       "      <td>Y</td>\n",
       "      <td>1</td>\n",
       "      <td>NaN</td>\n",
       "      <td>NaN</td>\n",
       "      <td>NaN</td>\n",
       "      <td>XNA</td>\n",
       "      <td>0</td>\n",
       "      <td>-512</td>\n",
       "      <td>Cash through the bank</td>\n",
       "      <td>XAP</td>\n",
       "      <td>NaN</td>\n",
       "      <td>Repeater</td>\n",
       "      <td>XNA</td>\n",
       "      <td>Cash</td>\n",
       "      <td>x-sell</td>\n",
       "      <td>Credit and cash offices</td>\n",
       "      <td>-1</td>\n",
       "      <td>XNA</td>\n",
       "      <td>12.0</td>\n",
       "      <td>middle</td>\n",
       "      <td>Cash X-Sell: middle</td>\n",
       "      <td>365243.0</td>\n",
       "      <td>-482.0</td>\n",
       "      <td>-152.0</td>\n",
       "      <td>-182.0</td>\n",
       "      <td>-177.0</td>\n",
       "      <td>1.0</td>\n",
       "    </tr>\n",
       "    <tr>\n",
       "      <th>4</th>\n",
       "      <td>1784265</td>\n",
       "      <td>202054</td>\n",
       "      <td>Cash loans</td>\n",
       "      <td>31924.395</td>\n",
       "      <td>337500.0</td>\n",
       "      <td>404055.0</td>\n",
       "      <td>NaN</td>\n",
       "      <td>337500.0</td>\n",
       "      <td>THURSDAY</td>\n",
       "      <td>9</td>\n",
       "      <td>Y</td>\n",
       "      <td>1</td>\n",
       "      <td>NaN</td>\n",
       "      <td>NaN</td>\n",
       "      <td>NaN</td>\n",
       "      <td>Repairs</td>\n",
       "      <td>1</td>\n",
       "      <td>-781</td>\n",
       "      <td>Cash through the bank</td>\n",
       "      <td>HC</td>\n",
       "      <td>NaN</td>\n",
       "      <td>Repeater</td>\n",
       "      <td>XNA</td>\n",
       "      <td>Cash</td>\n",
       "      <td>walk-in</td>\n",
       "      <td>Credit and cash offices</td>\n",
       "      <td>-1</td>\n",
       "      <td>XNA</td>\n",
       "      <td>24.0</td>\n",
       "      <td>high</td>\n",
       "      <td>Cash Street: high</td>\n",
       "      <td>NaN</td>\n",
       "      <td>NaN</td>\n",
       "      <td>NaN</td>\n",
       "      <td>NaN</td>\n",
       "      <td>NaN</td>\n",
       "      <td>NaN</td>\n",
       "    </tr>\n",
       "  </tbody>\n",
       "</table>\n",
       "</div>"
      ],
      "text/plain": [
       "   SK_ID_PREV  SK_ID_CURR NAME_CONTRACT_TYPE  AMT_ANNUITY  AMT_APPLICATION  \\\n",
       "0     2030495      271877     Consumer loans     1730.430          17145.0   \n",
       "1     2802425      108129         Cash loans    25188.615         607500.0   \n",
       "2     2523466      122040         Cash loans    15060.735         112500.0   \n",
       "3     2819243      176158         Cash loans    47041.335         450000.0   \n",
       "4     1784265      202054         Cash loans    31924.395         337500.0   \n",
       "\n",
       "   AMT_CREDIT  AMT_DOWN_PAYMENT  AMT_GOODS_PRICE WEEKDAY_APPR_PROCESS_START  \\\n",
       "0     17145.0               0.0          17145.0                   SATURDAY   \n",
       "1    679671.0               NaN         607500.0                   THURSDAY   \n",
       "2    136444.5               NaN         112500.0                    TUESDAY   \n",
       "3    470790.0               NaN         450000.0                     MONDAY   \n",
       "4    404055.0               NaN         337500.0                   THURSDAY   \n",
       "\n",
       "   HOUR_APPR_PROCESS_START FLAG_LAST_APPL_PER_CONTRACT  \\\n",
       "0                       15                           Y   \n",
       "1                       11                           Y   \n",
       "2                       11                           Y   \n",
       "3                        7                           Y   \n",
       "4                        9                           Y   \n",
       "\n",
       "   NFLAG_LAST_APPL_IN_DAY  RATE_DOWN_PAYMENT  RATE_INTEREST_PRIMARY  \\\n",
       "0                       1                0.0               0.182832   \n",
       "1                       1                NaN                    NaN   \n",
       "2                       1                NaN                    NaN   \n",
       "3                       1                NaN                    NaN   \n",
       "4                       1                NaN                    NaN   \n",
       "\n",
       "   RATE_INTEREST_PRIVILEGED NAME_CASH_LOAN_PURPOSE  NAME_CONTRACT_STATUS  \\\n",
       "0                  0.867336                    XAP                     0   \n",
       "1                       NaN                    XNA                     0   \n",
       "2                       NaN                    XNA                     0   \n",
       "3                       NaN                    XNA                     0   \n",
       "4                       NaN                Repairs                     1   \n",
       "\n",
       "   DAYS_DECISION      NAME_PAYMENT_TYPE CODE_REJECT_REASON  NAME_TYPE_SUITE  \\\n",
       "0            -73  Cash through the bank                XAP              NaN   \n",
       "1           -164                    XNA                XAP    Unaccompanied   \n",
       "2           -301  Cash through the bank                XAP  Spouse, partner   \n",
       "3           -512  Cash through the bank                XAP              NaN   \n",
       "4           -781  Cash through the bank                 HC              NaN   \n",
       "\n",
       "  NAME_CLIENT_TYPE NAME_GOODS_CATEGORY NAME_PORTFOLIO NAME_PRODUCT_TYPE  \\\n",
       "0         Repeater              Mobile            POS               XNA   \n",
       "1         Repeater                 XNA           Cash            x-sell   \n",
       "2         Repeater                 XNA           Cash            x-sell   \n",
       "3         Repeater                 XNA           Cash            x-sell   \n",
       "4         Repeater                 XNA           Cash           walk-in   \n",
       "\n",
       "              CHANNEL_TYPE  SELLERPLACE_AREA NAME_SELLER_INDUSTRY  \\\n",
       "0             Country-wide                35         Connectivity   \n",
       "1           Contact center                -1                  XNA   \n",
       "2  Credit and cash offices                -1                  XNA   \n",
       "3  Credit and cash offices                -1                  XNA   \n",
       "4  Credit and cash offices                -1                  XNA   \n",
       "\n",
       "   CNT_PAYMENT NAME_YIELD_GROUP       PRODUCT_COMBINATION  DAYS_FIRST_DRAWING  \\\n",
       "0         12.0           middle  POS mobile with interest            365243.0   \n",
       "1         36.0       low_action          Cash X-Sell: low            365243.0   \n",
       "2         12.0             high         Cash X-Sell: high            365243.0   \n",
       "3         12.0           middle       Cash X-Sell: middle            365243.0   \n",
       "4         24.0             high         Cash Street: high                 NaN   \n",
       "\n",
       "   DAYS_FIRST_DUE  DAYS_LAST_DUE_1ST_VERSION  DAYS_LAST_DUE  DAYS_TERMINATION  \\\n",
       "0           -42.0                      300.0          -42.0             -37.0   \n",
       "1          -134.0                      916.0       365243.0          365243.0   \n",
       "2          -271.0                       59.0       365243.0          365243.0   \n",
       "3          -482.0                     -152.0         -182.0            -177.0   \n",
       "4             NaN                        NaN            NaN               NaN   \n",
       "\n",
       "   NFLAG_INSURED_ON_APPROVAL  \n",
       "0                        0.0  \n",
       "1                        1.0  \n",
       "2                        1.0  \n",
       "3                        1.0  \n",
       "4                        NaN  "
      ]
     },
     "execution_count": 22,
     "metadata": {},
     "output_type": "execute_result"
    }
   ],
   "source": [
    "previous_app.head()"
   ]
  },
  {
   "cell_type": "code",
   "execution_count": 23,
   "id": "b863e9f9",
   "metadata": {},
   "outputs": [
    {
     "name": "stdout",
     "output_type": "stream",
     "text": [
      "1 columns were label encoded.\n"
     ]
    }
   ],
   "source": [
    "# Create a label encoder object\n",
    "le = LabelEncoder()\n",
    "le_count = 0\n",
    "\n",
    "for col in previous_app:\n",
    "    if previous_app[col].dtype == 'object':\n",
    "        \n",
    "        if len(list(previous_app[col].unique())) <= 2:\n",
    "            le.fit(previous_app[col])\n",
    "        # Transform both training and testing data\n",
    "            previous_app[col] = le.transform(previous_app[col])\n",
    "           \n",
    "        \n",
    "            le_count +=1\n",
    "        \n",
    "print('%d columns were label encoded.' % le_count)"
   ]
  },
  {
   "cell_type": "code",
   "execution_count": 24,
   "id": "5697728d",
   "metadata": {},
   "outputs": [
    {
     "name": "stdout",
     "output_type": "stream",
     "text": [
      "Training Feature shape:  (1670214, 160)\n"
     ]
    }
   ],
   "source": [
    "previous_app = pd.get_dummies(previous_app)\n",
    "\n",
    "\n",
    "print('Training Feature shape: ', previous_app.shape)\n",
    "\n"
   ]
  },
  {
   "cell_type": "code",
   "execution_count": 25,
   "id": "759c3d55",
   "metadata": {},
   "outputs": [
    {
     "name": "stdout",
     "output_type": "stream",
     "text": [
      "Training Feature shape:  (1670214, 160)\n"
     ]
    }
   ],
   "source": [
    "train_labels =previous_app['NAME_CONTRACT_STATUS']\n",
    "\n",
    "\n",
    "\n",
    "previous_app['NAME_CONTRACT_STATUS'] =train_labels\n",
    "\n",
    "print('Training Feature shape: ', previous_app.shape)\n"
   ]
  },
  {
   "cell_type": "code",
   "execution_count": 26,
   "id": "fffcf1cf",
   "metadata": {},
   "outputs": [
    {
     "name": "stdout",
     "output_type": "stream",
     "text": [
      "Most Positive Correlations:\n",
      " NAME_CLIENT_TYPE_XNA                                   0.022704\n",
      "CHANNEL_TYPE_Channel of corporate sales                0.023808\n",
      "WEEKDAY_APPR_PROCESS_START_TUESDAY                     0.024323\n",
      "CODE_REJECT_REASON_SYSTEM                              0.026513\n",
      "WEEKDAY_APPR_PROCESS_START_MONDAY                      0.026843\n",
      "NAME_CASH_LOAN_PURPOSE_Buying a used car               0.027079\n",
      "CHANNEL_TYPE_AP+ (Cash loan)                           0.028400\n",
      "NAME_CASH_LOAN_PURPOSE_Urgent needs                    0.028723\n",
      "NAME_CASH_LOAN_PURPOSE_Building a house or an annex    0.030653\n",
      "NAME_CASH_LOAN_PURPOSE_Payments on other loans         0.032487\n",
      "PRODUCT_COMBINATION_Cash Street: middle                0.033872\n",
      "NAME_CASH_LOAN_PURPOSE_Other                           0.038624\n",
      "SK_ID_PREV                                             0.046699\n",
      "CODE_REJECT_REASON_VERIF                               0.058920\n",
      "NAME_CASH_LOAN_PURPOSE_Repairs                         0.063297\n",
      "CODE_REJECT_REASON_XNA                                 0.071623\n",
      "NAME_CONTRACT_TYPE_Revolving loans                     0.085408\n",
      "NAME_PRODUCT_TYPE_XNA                                  0.086712\n",
      "NAME_PRODUCT_TYPE_walk-in                              0.088909\n",
      "PRODUCT_COMBINATION_Cash Street: low                   0.100549\n",
      "CODE_REJECT_REASON_SCOFR                               0.112479\n",
      "CHANNEL_TYPE_Contact center                            0.116209\n",
      "PRODUCT_COMBINATION_Card Street                        0.152852\n",
      "CODE_REJECT_REASON_CLIENT                              0.162244\n",
      "AMT_ANNUITY                                            0.166418\n",
      "CODE_REJECT_REASON_SCO                                 0.193802\n",
      "AMT_GOODS_PRICE                                        0.231550\n",
      "CODE_REJECT_REASON_LIMIT                               0.237585\n",
      "CNT_PAYMENT                                            0.264232\n",
      "NAME_CLIENT_TYPE_Repeater                              0.298451\n",
      "NAME_CASH_LOAN_PURPOSE_XNA                             0.339761\n",
      "DAYS_DECISION                                          0.361394\n",
      "NAME_CONTRACT_TYPE_Cash loans                          0.375970\n",
      "CHANNEL_TYPE_Credit and cash offices                   0.393353\n",
      "CODE_REJECT_REASON_HC                                  0.438006\n",
      "NAME_SELLER_INDUSTRY_XNA                               0.447388\n",
      "NAME_GOODS_CATEGORY_XNA                                0.448064\n",
      "NAME_PAYMENT_TYPE_XNA                                  0.452632\n",
      "PRODUCT_COMBINATION_Cash                               0.581508\n",
      "NAME_YIELD_GROUP_XNA                                   0.595919\n",
      "NAME_PORTFOLIO_XNA                                     0.685104\n",
      "NAME_CONTRACT_STATUS                                   1.000000\n",
      "RATE_INTEREST_PRIMARY                                       NaN\n",
      "RATE_INTEREST_PRIVILEGED                                    NaN\n",
      "DAYS_FIRST_DRAWING                                          NaN\n",
      "DAYS_FIRST_DUE                                              NaN\n",
      "DAYS_LAST_DUE_1ST_VERSION                                   NaN\n",
      "DAYS_LAST_DUE                                               NaN\n",
      "DAYS_TERMINATION                                            NaN\n",
      "NFLAG_INSURED_ON_APPROVAL                                   NaN\n",
      "Name: NAME_CONTRACT_STATUS, dtype: float64\n",
      "\n",
      "Most Negative Correlations:\n",
      " CODE_REJECT_REASON_XAP                               -0.619333\n",
      "NAME_PORTFOLIO_POS                                   -0.494250\n",
      "NAME_PAYMENT_TYPE_Cash through the bank              -0.446149\n",
      "NAME_CONTRACT_TYPE_Consumer loans                    -0.432552\n",
      "NAME_CASH_LOAN_PURPOSE_XAP                           -0.375970\n",
      "NAME_CLIENT_TYPE_New                                 -0.302241\n",
      "NAME_SELLER_INDUSTRY_Consumer electronics            -0.283700\n",
      "CHANNEL_TYPE_Country-wide                            -0.258673\n",
      "NAME_YIELD_GROUP_middle                              -0.245171\n",
      "NAME_YIELD_GROUP_high                                -0.240775\n",
      "PRODUCT_COMBINATION_POS household with interest      -0.235794\n",
      "CHANNEL_TYPE_Stone                                   -0.213050\n",
      "NAME_GOODS_CATEGORY_Consumer Electronics             -0.171265\n",
      "NAME_TYPE_SUITE_Family                               -0.169924\n",
      "NAME_GOODS_CATEGORY_Mobile                           -0.168832\n",
      "NAME_TYPE_SUITE_Unaccompanied                        -0.165832\n",
      "NAME_PRODUCT_TYPE_x-sell                             -0.150675\n",
      "NAME_SELLER_INDUSTRY_Connectivity                    -0.149304\n",
      "PRODUCT_COMBINATION_POS industry with interest       -0.147071\n",
      "CHANNEL_TYPE_Regional / Local                        -0.145424\n",
      "NAME_YIELD_GROUP_low_normal                          -0.144300\n",
      "NAME_GOODS_CATEGORY_Audio/Video                      -0.144274\n",
      "PRODUCT_COMBINATION_POS mobile with interest         -0.136547\n",
      "PRODUCT_COMBINATION_POS household without interest   -0.121944\n",
      "RATE_DOWN_PAYMENT                                    -0.121897\n",
      "PRODUCT_COMBINATION_Cash X-Sell: middle              -0.118511\n",
      "NAME_GOODS_CATEGORY_Computers                        -0.113463\n",
      "NAME_GOODS_CATEGORY_Furniture                        -0.110451\n",
      "NAME_SELLER_INDUSTRY_Furniture                       -0.106600\n",
      "NAME_TYPE_SUITE_Spouse, partner                      -0.097625\n",
      "FLAG_LAST_APPL_PER_CONTRACT                          -0.091365\n",
      "NAME_SELLER_INDUSTRY_Construction                    -0.075823\n",
      "NAME_YIELD_GROUP_low_action                          -0.074311\n",
      "PRODUCT_COMBINATION_POS mobile without interest      -0.071965\n",
      "NAME_PORTFOLIO_Cash                                  -0.071805\n",
      "NAME_GOODS_CATEGORY_Clothing and Accessories         -0.071570\n",
      "NAME_GOODS_CATEGORY_Construction Materials           -0.070691\n",
      "NAME_SELLER_INDUSTRY_Clothing                        -0.070008\n",
      "NAME_TYPE_SUITE_Children                             -0.067825\n",
      "WEEKDAY_APPR_PROCESS_START_SUNDAY                    -0.066422\n",
      "PRODUCT_COMBINATION_Cash X-Sell: high                -0.064736\n",
      "NAME_SELLER_INDUSTRY_Industry                        -0.060926\n",
      "NFLAG_LAST_APPL_IN_DAY                               -0.060844\n",
      "PRODUCT_COMBINATION_POS other with interest          -0.060561\n",
      "NAME_GOODS_CATEGORY_Photo / Cinema Equipment         -0.059398\n",
      "NAME_CLIENT_TYPE_Refreshed                           -0.058256\n",
      "HOUR_APPR_PROCESS_START                              -0.051621\n",
      "PRODUCT_COMBINATION_POS industry without interest    -0.051412\n",
      "PRODUCT_COMBINATION_Card X-Sell                      -0.051377\n",
      "WEEKDAY_APPR_PROCESS_START_SATURDAY                  -0.047867\n",
      "Name: NAME_CONTRACT_STATUS, dtype: float64\n"
     ]
    }
   ],
   "source": [
    "correlations = previous_app.corr()['NAME_CONTRACT_STATUS'].sort_values()\n",
    "\n",
    "print('Most Positive Correlations:\\n', correlations.tail(50))\n",
    "print('\\nMost Negative Correlations:\\n', correlations.head(50))"
   ]
  },
  {
   "cell_type": "markdown",
   "id": "7f0738f2",
   "metadata": {},
   "source": [
    "# From reviewing the correlations above we selected the independent variables below"
   ]
  },
  {
   "cell_type": "code",
   "execution_count": 27,
   "id": "83369e06",
   "metadata": {},
   "outputs": [],
   "source": [
    "loan=previous_app[['SK_ID_CURR','CODE_REJECT_REASON_XAP','NAME_PORTFOLIO_POS','NAME_CONTRACT_TYPE_Consumer loans','CODE_REJECT_REASON_HC','CODE_REJECT_REASON_SYSTEM','NAME_PORTFOLIO_POS','NAME_PORTFOLIO_XNA','NAME_CONTRACT_STATUS']]"
   ]
  },
  {
   "cell_type": "code",
   "execution_count": 28,
   "id": "1d532bb6",
   "metadata": {},
   "outputs": [
    {
     "name": "stdout",
     "output_type": "stream",
     "text": [
      "<class 'pandas.core.frame.DataFrame'>\n",
      "RangeIndex: 1670214 entries, 0 to 1670213\n",
      "Data columns (total 9 columns):\n",
      " #   Column                             Non-Null Count    Dtype\n",
      "---  ------                             --------------    -----\n",
      " 0   SK_ID_CURR                         1670214 non-null  int64\n",
      " 1   CODE_REJECT_REASON_XAP             1670214 non-null  uint8\n",
      " 2   NAME_PORTFOLIO_POS                 1670214 non-null  uint8\n",
      " 3   NAME_CONTRACT_TYPE_Consumer loans  1670214 non-null  uint8\n",
      " 4   CODE_REJECT_REASON_HC              1670214 non-null  uint8\n",
      " 5   CODE_REJECT_REASON_SYSTEM          1670214 non-null  uint8\n",
      " 6   NAME_PORTFOLIO_POS                 1670214 non-null  uint8\n",
      " 7   NAME_PORTFOLIO_XNA                 1670214 non-null  uint8\n",
      " 8   NAME_CONTRACT_STATUS               1670214 non-null  int64\n",
      "dtypes: int64(2), uint8(7)\n",
      "memory usage: 36.6 MB\n"
     ]
    }
   ],
   "source": [
    "loan.info()"
   ]
  },
  {
   "cell_type": "code",
   "execution_count": 29,
   "id": "ec478fb7",
   "metadata": {},
   "outputs": [
    {
     "data": {
      "text/plain": [
       "0    1036781\n",
       "1     633433\n",
       "Name: NAME_CONTRACT_STATUS, dtype: int64"
      ]
     },
     "execution_count": 29,
     "metadata": {},
     "output_type": "execute_result"
    }
   ],
   "source": [
    "loan[\"NAME_CONTRACT_STATUS\"].value_counts()"
   ]
  },
  {
   "cell_type": "code",
   "execution_count": 30,
   "id": "c8006eb6",
   "metadata": {},
   "outputs": [
    {
     "data": {
      "text/html": [
       "<div>\n",
       "<style scoped>\n",
       "    .dataframe tbody tr th:only-of-type {\n",
       "        vertical-align: middle;\n",
       "    }\n",
       "\n",
       "    .dataframe tbody tr th {\n",
       "        vertical-align: top;\n",
       "    }\n",
       "\n",
       "    .dataframe thead th {\n",
       "        text-align: right;\n",
       "    }\n",
       "</style>\n",
       "<table border=\"1\" class=\"dataframe\">\n",
       "  <thead>\n",
       "    <tr style=\"text-align: right;\">\n",
       "      <th></th>\n",
       "      <th>SK_ID_CURR</th>\n",
       "      <th>CODE_REJECT_REASON_XAP</th>\n",
       "      <th>NAME_PORTFOLIO_POS</th>\n",
       "      <th>NAME_CONTRACT_TYPE_Consumer loans</th>\n",
       "      <th>CODE_REJECT_REASON_HC</th>\n",
       "      <th>CODE_REJECT_REASON_SYSTEM</th>\n",
       "      <th>NAME_PORTFOLIO_POS</th>\n",
       "      <th>NAME_PORTFOLIO_XNA</th>\n",
       "      <th>NAME_CONTRACT_STATUS</th>\n",
       "    </tr>\n",
       "  </thead>\n",
       "  <tbody>\n",
       "    <tr>\n",
       "      <th>0</th>\n",
       "      <td>271877</td>\n",
       "      <td>1</td>\n",
       "      <td>1</td>\n",
       "      <td>1</td>\n",
       "      <td>0</td>\n",
       "      <td>0</td>\n",
       "      <td>1</td>\n",
       "      <td>0</td>\n",
       "      <td>0</td>\n",
       "    </tr>\n",
       "    <tr>\n",
       "      <th>1</th>\n",
       "      <td>108129</td>\n",
       "      <td>1</td>\n",
       "      <td>0</td>\n",
       "      <td>0</td>\n",
       "      <td>0</td>\n",
       "      <td>0</td>\n",
       "      <td>0</td>\n",
       "      <td>0</td>\n",
       "      <td>0</td>\n",
       "    </tr>\n",
       "    <tr>\n",
       "      <th>2</th>\n",
       "      <td>122040</td>\n",
       "      <td>1</td>\n",
       "      <td>0</td>\n",
       "      <td>0</td>\n",
       "      <td>0</td>\n",
       "      <td>0</td>\n",
       "      <td>0</td>\n",
       "      <td>0</td>\n",
       "      <td>0</td>\n",
       "    </tr>\n",
       "    <tr>\n",
       "      <th>3</th>\n",
       "      <td>176158</td>\n",
       "      <td>1</td>\n",
       "      <td>0</td>\n",
       "      <td>0</td>\n",
       "      <td>0</td>\n",
       "      <td>0</td>\n",
       "      <td>0</td>\n",
       "      <td>0</td>\n",
       "      <td>0</td>\n",
       "    </tr>\n",
       "    <tr>\n",
       "      <th>4</th>\n",
       "      <td>202054</td>\n",
       "      <td>0</td>\n",
       "      <td>0</td>\n",
       "      <td>0</td>\n",
       "      <td>1</td>\n",
       "      <td>0</td>\n",
       "      <td>0</td>\n",
       "      <td>0</td>\n",
       "      <td>1</td>\n",
       "    </tr>\n",
       "  </tbody>\n",
       "</table>\n",
       "</div>"
      ],
      "text/plain": [
       "   SK_ID_CURR  CODE_REJECT_REASON_XAP  NAME_PORTFOLIO_POS  \\\n",
       "0      271877                       1                   1   \n",
       "1      108129                       1                   0   \n",
       "2      122040                       1                   0   \n",
       "3      176158                       1                   0   \n",
       "4      202054                       0                   0   \n",
       "\n",
       "   NAME_CONTRACT_TYPE_Consumer loans  CODE_REJECT_REASON_HC  \\\n",
       "0                                  1                      0   \n",
       "1                                  0                      0   \n",
       "2                                  0                      0   \n",
       "3                                  0                      0   \n",
       "4                                  0                      1   \n",
       "\n",
       "   CODE_REJECT_REASON_SYSTEM  NAME_PORTFOLIO_POS  NAME_PORTFOLIO_XNA  \\\n",
       "0                          0                   1                   0   \n",
       "1                          0                   0                   0   \n",
       "2                          0                   0                   0   \n",
       "3                          0                   0                   0   \n",
       "4                          0                   0                   0   \n",
       "\n",
       "   NAME_CONTRACT_STATUS  \n",
       "0                     0  \n",
       "1                     0  \n",
       "2                     0  \n",
       "3                     0  \n",
       "4                     1  "
      ]
     },
     "execution_count": 30,
     "metadata": {},
     "output_type": "execute_result"
    }
   ],
   "source": [
    "loan.head()"
   ]
  },
  {
   "cell_type": "code",
   "execution_count": 31,
   "id": "1c9152ab",
   "metadata": {},
   "outputs": [],
   "source": [
    "#We Do a Bivariate Analysis and pair plots to gain some additional insights"
   ]
  },
  {
   "cell_type": "code",
   "execution_count": 32,
   "id": "385febb4",
   "metadata": {},
   "outputs": [
    {
     "data": {
      "image/png": "[encoded data removed]",
      "text/plain": [
       "<Figure size 1080x504 with 2 Axes>"
      ]
     },
     "metadata": {
      "needs_background": "light"
     },
     "output_type": "display_data"
    }
   ],
   "source": [
    "plt.figure(figsize=(15, 7))\n",
    "sns.heatmap(loan.corr(), annot=True, vmin=-1, vmax=1, fmt=\".2f\", cmap=\"Spectral\")\n",
    "plt.show()"
   ]
  },
  {
   "cell_type": "code",
   "execution_count": 33,
   "id": "c8f51192",
   "metadata": {},
   "outputs": [],
   "source": [
    "#Multivariate Analysis"
   ]
  },
  {
   "cell_type": "code",
   "execution_count": 34,
   "id": "0e970d08",
   "metadata": {},
   "outputs": [
    {
     "name": "stdout",
     "output_type": "stream",
     "text": [
      "Numeric Columns:     Index(['SK_ID_CURR', 'CODE_REJECT_REASON_XAP', 'NAME_PORTFOLIO_POS',\n",
      "       'NAME_CONTRACT_TYPE_Consumer loans', 'CODE_REJECT_REASON_HC',\n",
      "       'CODE_REJECT_REASON_SYSTEM', 'NAME_PORTFOLIO_POS', 'NAME_PORTFOLIO_XNA',\n",
      "       'NAME_CONTRACT_STATUS'],\n",
      "      dtype='object')\n"
     ]
    }
   ],
   "source": [
    "numeric_cols = loan.select_dtypes(include=[np.number]).columns\n",
    "\n",
    "\n",
    "print(\"Numeric Columns:    \", numeric_cols)"
   ]
  },
  {
   "cell_type": "code",
   "execution_count": 35,
   "id": "296eccbc",
   "metadata": {},
   "outputs": [
    {
     "data": {
      "image/png": "[encoded data removed]",
      "text/plain": [
       "<Figure size 1008x1008 with 12 Axes>"
      ]
     },
     "metadata": {
      "needs_background": "light"
     },
     "output_type": "display_data"
    }
   ],
   "source": [
    "# creating histograms\n",
    "loan[numeric_cols].hist(figsize=(14, 14))\n",
    "plt.show()"
   ]
  },
  {
   "cell_type": "code",
   "execution_count": null,
   "id": "7d76704e",
   "metadata": {},
   "outputs": [],
   "source": []
  },
  {
   "cell_type": "markdown",
   "id": "8889be15",
   "metadata": {},
   "source": [
    "# Check for missing values on Selected Variables/Columns "
   ]
  },
  {
   "cell_type": "code",
   "execution_count": 36,
   "id": "abb07306",
   "metadata": {},
   "outputs": [
    {
     "data": {
      "text/plain": [
       "SK_ID_CURR                           0\n",
       "CODE_REJECT_REASON_XAP               0\n",
       "NAME_PORTFOLIO_POS                   0\n",
       "NAME_CONTRACT_TYPE_Consumer loans    0\n",
       "CODE_REJECT_REASON_HC                0\n",
       "CODE_REJECT_REASON_SYSTEM            0\n",
       "NAME_PORTFOLIO_POS                   0\n",
       "NAME_PORTFOLIO_XNA                   0\n",
       "NAME_CONTRACT_STATUS                 0\n",
       "dtype: int64"
      ]
     },
     "execution_count": 36,
     "metadata": {},
     "output_type": "execute_result"
    }
   ],
   "source": [
    "loan.isnull().sum()"
   ]
  },
  {
   "cell_type": "markdown",
   "id": "85485131",
   "metadata": {},
   "source": [
    "# FINAL SEVEN"
   ]
  },
  {
   "cell_type": "markdown",
   "id": "5dd58fb1",
   "metadata": {},
   "source": [
    "From above the Final 7 Variables to be focused on will be:\n",
    "\n",
    "These 7 were selected because based on research of the domain, strong correlation to Independent Variable and minimal missing values which will require substantial imputation of values."
   ]
  },
  {
   "cell_type": "markdown",
   "id": "ad71beb8",
   "metadata": {},
   "source": [
    "# Model Building Approach"
   ]
  },
  {
   "cell_type": "markdown",
   "id": "60aa52d3",
   "metadata": {},
   "source": [
    "1. Data preparation\n",
    "2. Partition the data into train and test set.\n",
    "3. Build a model on the train data.\n",
    "4. Tune/Oversample/Undersample the model if required."
   ]
  },
  {
   "cell_type": "code",
   "execution_count": 37,
   "id": "a948b065",
   "metadata": {},
   "outputs": [
    {
     "name": "stdout",
     "output_type": "stream",
     "text": [
      "<class 'pandas.core.frame.DataFrame'>\n",
      "RangeIndex: 1670214 entries, 0 to 1670213\n",
      "Data columns (total 9 columns):\n",
      " #   Column                             Non-Null Count    Dtype\n",
      "---  ------                             --------------    -----\n",
      " 0   SK_ID_CURR                         1670214 non-null  int64\n",
      " 1   CODE_REJECT_REASON_XAP             1670214 non-null  uint8\n",
      " 2   NAME_PORTFOLIO_POS                 1670214 non-null  uint8\n",
      " 3   NAME_CONTRACT_TYPE_Consumer loans  1670214 non-null  uint8\n",
      " 4   CODE_REJECT_REASON_HC              1670214 non-null  uint8\n",
      " 5   CODE_REJECT_REASON_SYSTEM          1670214 non-null  uint8\n",
      " 6   NAME_PORTFOLIO_POS                 1670214 non-null  uint8\n",
      " 7   NAME_PORTFOLIO_XNA                 1670214 non-null  uint8\n",
      " 8   NAME_CONTRACT_STATUS               1670214 non-null  int64\n",
      "dtypes: int64(2), uint8(7)\n",
      "memory usage: 36.6 MB\n"
     ]
    }
   ],
   "source": [
    "loan.info()"
   ]
  },
  {
   "cell_type": "code",
   "execution_count": 38,
   "id": "1ddfe36c",
   "metadata": {},
   "outputs": [
    {
     "data": {
      "text/plain": [
       "338857"
      ]
     },
     "execution_count": 38,
     "metadata": {},
     "output_type": "execute_result"
    }
   ],
   "source": [
    "# checking for unique values in ID column\n",
    "loan[\"SK_ID_CURR\"].nunique()"
   ]
  },
  {
   "cell_type": "code",
   "execution_count": null,
   "id": "e2aec0c0",
   "metadata": {},
   "outputs": [],
   "source": []
  },
  {
   "cell_type": "code",
   "execution_count": 39,
   "id": "495f0dea",
   "metadata": {},
   "outputs": [],
   "source": [
    "df_train_no_duplicates2 = loan.drop_duplicates(subset=['SK_ID_CURR'])"
   ]
  },
  {
   "cell_type": "code",
   "execution_count": 40,
   "id": "eb33b677",
   "metadata": {},
   "outputs": [
    {
     "name": "stdout",
     "output_type": "stream",
     "text": [
      "<class 'pandas.core.frame.DataFrame'>\n",
      "Int64Index: 338857 entries, 0 to 1670060\n",
      "Data columns (total 9 columns):\n",
      " #   Column                             Non-Null Count   Dtype\n",
      "---  ------                             --------------   -----\n",
      " 0   SK_ID_CURR                         338857 non-null  int64\n",
      " 1   CODE_REJECT_REASON_XAP             338857 non-null  uint8\n",
      " 2   NAME_PORTFOLIO_POS                 338857 non-null  uint8\n",
      " 3   NAME_CONTRACT_TYPE_Consumer loans  338857 non-null  uint8\n",
      " 4   CODE_REJECT_REASON_HC              338857 non-null  uint8\n",
      " 5   CODE_REJECT_REASON_SYSTEM          338857 non-null  uint8\n",
      " 6   NAME_PORTFOLIO_POS                 338857 non-null  uint8\n",
      " 7   NAME_PORTFOLIO_XNA                 338857 non-null  uint8\n",
      " 8   NAME_CONTRACT_STATUS               338857 non-null  int64\n",
      "dtypes: int64(2), uint8(7)\n",
      "memory usage: 10.0 MB\n"
     ]
    }
   ],
   "source": [
    "df_train_no_duplicates2.info()"
   ]
  },
  {
   "cell_type": "code",
   "execution_count": 41,
   "id": "fff57447",
   "metadata": {},
   "outputs": [
    {
     "data": {
      "text/plain": [
       "SK_ID_CURR                           0\n",
       "CODE_REJECT_REASON_XAP               0\n",
       "NAME_PORTFOLIO_POS                   0\n",
       "NAME_CONTRACT_TYPE_Consumer loans    0\n",
       "CODE_REJECT_REASON_HC                0\n",
       "CODE_REJECT_REASON_SYSTEM            0\n",
       "NAME_PORTFOLIO_POS                   0\n",
       "NAME_PORTFOLIO_XNA                   0\n",
       "NAME_CONTRACT_STATUS                 0\n",
       "dtype: int64"
      ]
     },
     "execution_count": 41,
     "metadata": {},
     "output_type": "execute_result"
    }
   ],
   "source": [
    "df_train_no_duplicates2.isnull().sum()"
   ]
  },
  {
   "cell_type": "markdown",
   "id": "fab82a13",
   "metadata": {},
   "source": [
    "# TAKE A RANDOM SAMPLE OF 3000 (Do not have enough compute power for the whole population)"
   ]
  },
  {
   "cell_type": "code",
   "execution_count": 42,
   "id": "373894ee",
   "metadata": {},
   "outputs": [],
   "source": [
    "loan11=df_train_no_duplicates2.sample(n=3000, random_state=1)"
   ]
  },
  {
   "cell_type": "code",
   "execution_count": 43,
   "id": "e5126f6c",
   "metadata": {},
   "outputs": [
    {
     "name": "stdout",
     "output_type": "stream",
     "text": [
      "<class 'pandas.core.frame.DataFrame'>\n",
      "Int64Index: 3000 entries, 737318 to 640910\n",
      "Data columns (total 9 columns):\n",
      " #   Column                             Non-Null Count  Dtype\n",
      "---  ------                             --------------  -----\n",
      " 0   SK_ID_CURR                         3000 non-null   int64\n",
      " 1   CODE_REJECT_REASON_XAP             3000 non-null   uint8\n",
      " 2   NAME_PORTFOLIO_POS                 3000 non-null   uint8\n",
      " 3   NAME_CONTRACT_TYPE_Consumer loans  3000 non-null   uint8\n",
      " 4   CODE_REJECT_REASON_HC              3000 non-null   uint8\n",
      " 5   CODE_REJECT_REASON_SYSTEM          3000 non-null   uint8\n",
      " 6   NAME_PORTFOLIO_POS                 3000 non-null   uint8\n",
      " 7   NAME_PORTFOLIO_XNA                 3000 non-null   uint8\n",
      " 8   NAME_CONTRACT_STATUS               3000 non-null   int64\n",
      "dtypes: int64(2), uint8(7)\n",
      "memory usage: 90.8 KB\n"
     ]
    }
   ],
   "source": [
    "loan11.info()"
   ]
  },
  {
   "cell_type": "code",
   "execution_count": null,
   "id": "31867bb6",
   "metadata": {},
   "outputs": [],
   "source": []
  },
  {
   "cell_type": "markdown",
   "id": "e29f529c",
   "metadata": {},
   "source": [
    "Split Data"
   ]
  },
  {
   "cell_type": "code",
   "execution_count": 44,
   "id": "21e2f5d9",
   "metadata": {},
   "outputs": [],
   "source": [
    "# separating the independent and dependent variables\n",
    "\n",
    "X = loan11.drop([\"NAME_CONTRACT_STATUS\"], axis=1)\n",
    "y = loan11[\"NAME_CONTRACT_STATUS\"]"
   ]
  },
  {
   "cell_type": "code",
   "execution_count": 45,
   "id": "eb9861a2",
   "metadata": {},
   "outputs": [
    {
     "data": {
      "text/html": [
       "<div>\n",
       "<style scoped>\n",
       "    .dataframe tbody tr th:only-of-type {\n",
       "        vertical-align: middle;\n",
       "    }\n",
       "\n",
       "    .dataframe tbody tr th {\n",
       "        vertical-align: top;\n",
       "    }\n",
       "\n",
       "    .dataframe thead th {\n",
       "        text-align: right;\n",
       "    }\n",
       "</style>\n",
       "<table border=\"1\" class=\"dataframe\">\n",
       "  <thead>\n",
       "    <tr style=\"text-align: right;\">\n",
       "      <th></th>\n",
       "      <th>SK_ID_CURR</th>\n",
       "      <th>CODE_REJECT_REASON_XAP</th>\n",
       "      <th>NAME_PORTFOLIO_POS</th>\n",
       "      <th>NAME_CONTRACT_TYPE_Consumer loans</th>\n",
       "      <th>CODE_REJECT_REASON_HC</th>\n",
       "      <th>CODE_REJECT_REASON_SYSTEM</th>\n",
       "      <th>NAME_PORTFOLIO_POS</th>\n",
       "      <th>NAME_PORTFOLIO_XNA</th>\n",
       "    </tr>\n",
       "  </thead>\n",
       "  <tbody>\n",
       "    <tr>\n",
       "      <th>737318</th>\n",
       "      <td>248439</td>\n",
       "      <td>1</td>\n",
       "      <td>1</td>\n",
       "      <td>1</td>\n",
       "      <td>0</td>\n",
       "      <td>0</td>\n",
       "      <td>1</td>\n",
       "      <td>0</td>\n",
       "    </tr>\n",
       "    <tr>\n",
       "      <th>382029</th>\n",
       "      <td>455947</td>\n",
       "      <td>1</td>\n",
       "      <td>0</td>\n",
       "      <td>0</td>\n",
       "      <td>0</td>\n",
       "      <td>0</td>\n",
       "      <td>0</td>\n",
       "      <td>0</td>\n",
       "    </tr>\n",
       "    <tr>\n",
       "      <th>65164</th>\n",
       "      <td>130748</td>\n",
       "      <td>1</td>\n",
       "      <td>0</td>\n",
       "      <td>0</td>\n",
       "      <td>0</td>\n",
       "      <td>0</td>\n",
       "      <td>0</td>\n",
       "      <td>0</td>\n",
       "    </tr>\n",
       "    <tr>\n",
       "      <th>103459</th>\n",
       "      <td>411314</td>\n",
       "      <td>1</td>\n",
       "      <td>1</td>\n",
       "      <td>1</td>\n",
       "      <td>0</td>\n",
       "      <td>0</td>\n",
       "      <td>1</td>\n",
       "      <td>0</td>\n",
       "    </tr>\n",
       "    <tr>\n",
       "      <th>1424460</th>\n",
       "      <td>251033</td>\n",
       "      <td>1</td>\n",
       "      <td>1</td>\n",
       "      <td>1</td>\n",
       "      <td>0</td>\n",
       "      <td>0</td>\n",
       "      <td>1</td>\n",
       "      <td>0</td>\n",
       "    </tr>\n",
       "  </tbody>\n",
       "</table>\n",
       "</div>"
      ],
      "text/plain": [
       "         SK_ID_CURR  CODE_REJECT_REASON_XAP  NAME_PORTFOLIO_POS  \\\n",
       "737318       248439                       1                   1   \n",
       "382029       455947                       1                   0   \n",
       "65164        130748                       1                   0   \n",
       "103459       411314                       1                   1   \n",
       "1424460      251033                       1                   1   \n",
       "\n",
       "         NAME_CONTRACT_TYPE_Consumer loans  CODE_REJECT_REASON_HC  \\\n",
       "737318                                   1                      0   \n",
       "382029                                   0                      0   \n",
       "65164                                    0                      0   \n",
       "103459                                   1                      0   \n",
       "1424460                                  1                      0   \n",
       "\n",
       "         CODE_REJECT_REASON_SYSTEM  NAME_PORTFOLIO_POS  NAME_PORTFOLIO_XNA  \n",
       "737318                           0                   1                   0  \n",
       "382029                           0                   0                   0  \n",
       "65164                            0                   0                   0  \n",
       "103459                           0                   1                   0  \n",
       "1424460                          0                   1                   0  "
      ]
     },
     "execution_count": 45,
     "metadata": {},
     "output_type": "execute_result"
    }
   ],
   "source": [
    "# encoding the categorical variables\n",
    "X = pd.get_dummies(X, drop_first=True)\n",
    "X.head()"
   ]
  },
  {
   "cell_type": "markdown",
   "id": "8493b648",
   "metadata": {},
   "source": [
    "# Splitting the data into X and y"
   ]
  },
  {
   "cell_type": "code",
   "execution_count": 46,
   "id": "fa19ec78",
   "metadata": {},
   "outputs": [
    {
     "name": "stdout",
     "output_type": "stream",
     "text": [
      "(1500, 8) (900, 8) (600, 8)\n"
     ]
    }
   ],
   "source": [
    "# Splitting data into training, validation and test set:\n",
    "\n",
    "# first we split data into 2 parts, say temporary and test\n",
    "X_train, X_temp, y_train, y_temp = train_test_split(\n",
    "    X, y, test_size=0.5, random_state=0, stratify=y\n",
    ")\n",
    "\n",
    "# then we split the temporary set into train and validation\n",
    "X_val, X_test, y_val, y_test = train_test_split(\n",
    "    X_temp, y_temp, test_size=0.4, random_state=0, stratify=y_temp\n",
    ")\n",
    "\n",
    "print(X_train.shape, X_val.shape, X_test.shape)"
   ]
  },
  {
   "cell_type": "code",
   "execution_count": 47,
   "id": "ec80ea15",
   "metadata": {},
   "outputs": [
    {
     "name": "stdout",
     "output_type": "stream",
     "text": [
      "Target value ratio in y\n",
      "0    0.761333\n",
      "1    0.238667\n",
      "Name: NAME_CONTRACT_STATUS, dtype: float64\n",
      "********************************************************************************\n",
      "Target value ratio in y_train\n",
      "0    0.761333\n",
      "1    0.238667\n",
      "Name: NAME_CONTRACT_STATUS, dtype: float64\n",
      "********************************************************************************\n",
      "Target value ratio in y_val\n",
      "0    0.761111\n",
      "1    0.238889\n",
      "Name: NAME_CONTRACT_STATUS, dtype: float64\n",
      "********************************************************************************\n",
      "Target value ratio in y_test\n",
      "0    0.761667\n",
      "1    0.238333\n",
      "Name: NAME_CONTRACT_STATUS, dtype: float64\n",
      "********************************************************************************\n"
     ]
    }
   ],
   "source": [
    "# Checking class balance for whole data, train set, validation set, and test set\n",
    "\n",
    "print(\"Target value ratio in y\")\n",
    "print(y.value_counts(1))\n",
    "print(\"*\" * 80)\n",
    "print(\"Target value ratio in y_train\")\n",
    "print(y_train.value_counts(1))\n",
    "print(\"*\" * 80)\n",
    "print(\"Target value ratio in y_val\")\n",
    "print(y_val.value_counts(1))\n",
    "print(\"*\" * 80)\n",
    "print(\"Target value ratio in y_test\")\n",
    "print(y_test.value_counts(1))\n",
    "print(\"*\" * 80)"
   ]
  },
  {
   "cell_type": "code",
   "execution_count": 48,
   "id": "b9a6b6ff",
   "metadata": {},
   "outputs": [
    {
     "data": {
      "text/html": [
       "<div>\n",
       "<style scoped>\n",
       "    .dataframe tbody tr th:only-of-type {\n",
       "        vertical-align: middle;\n",
       "    }\n",
       "\n",
       "    .dataframe tbody tr th {\n",
       "        vertical-align: top;\n",
       "    }\n",
       "\n",
       "    .dataframe thead th {\n",
       "        text-align: right;\n",
       "    }\n",
       "</style>\n",
       "<table border=\"1\" class=\"dataframe\">\n",
       "  <thead>\n",
       "    <tr style=\"text-align: right;\">\n",
       "      <th></th>\n",
       "      <th>SK_ID_CURR</th>\n",
       "      <th>CODE_REJECT_REASON_XAP</th>\n",
       "      <th>NAME_PORTFOLIO_POS</th>\n",
       "      <th>NAME_CONTRACT_TYPE_Consumer loans</th>\n",
       "      <th>CODE_REJECT_REASON_HC</th>\n",
       "      <th>CODE_REJECT_REASON_SYSTEM</th>\n",
       "      <th>NAME_PORTFOLIO_POS</th>\n",
       "      <th>NAME_PORTFOLIO_XNA</th>\n",
       "    </tr>\n",
       "  </thead>\n",
       "  <tbody>\n",
       "    <tr>\n",
       "      <th>73646</th>\n",
       "      <td>442210</td>\n",
       "      <td>1</td>\n",
       "      <td>0</td>\n",
       "      <td>0</td>\n",
       "      <td>0</td>\n",
       "      <td>0</td>\n",
       "      <td>0</td>\n",
       "      <td>0</td>\n",
       "    </tr>\n",
       "    <tr>\n",
       "      <th>1141771</th>\n",
       "      <td>313301</td>\n",
       "      <td>1</td>\n",
       "      <td>0</td>\n",
       "      <td>0</td>\n",
       "      <td>0</td>\n",
       "      <td>0</td>\n",
       "      <td>0</td>\n",
       "      <td>0</td>\n",
       "    </tr>\n",
       "    <tr>\n",
       "      <th>439582</th>\n",
       "      <td>100687</td>\n",
       "      <td>1</td>\n",
       "      <td>1</td>\n",
       "      <td>1</td>\n",
       "      <td>0</td>\n",
       "      <td>0</td>\n",
       "      <td>1</td>\n",
       "      <td>0</td>\n",
       "    </tr>\n",
       "    <tr>\n",
       "      <th>132020</th>\n",
       "      <td>351021</td>\n",
       "      <td>1</td>\n",
       "      <td>1</td>\n",
       "      <td>1</td>\n",
       "      <td>0</td>\n",
       "      <td>0</td>\n",
       "      <td>1</td>\n",
       "      <td>0</td>\n",
       "    </tr>\n",
       "    <tr>\n",
       "      <th>4914</th>\n",
       "      <td>429801</td>\n",
       "      <td>1</td>\n",
       "      <td>1</td>\n",
       "      <td>1</td>\n",
       "      <td>0</td>\n",
       "      <td>0</td>\n",
       "      <td>1</td>\n",
       "      <td>0</td>\n",
       "    </tr>\n",
       "  </tbody>\n",
       "</table>\n",
       "</div>"
      ],
      "text/plain": [
       "         SK_ID_CURR  CODE_REJECT_REASON_XAP  NAME_PORTFOLIO_POS  \\\n",
       "73646        442210                       1                   0   \n",
       "1141771      313301                       1                   0   \n",
       "439582       100687                       1                   1   \n",
       "132020       351021                       1                   1   \n",
       "4914         429801                       1                   1   \n",
       "\n",
       "         NAME_CONTRACT_TYPE_Consumer loans  CODE_REJECT_REASON_HC  \\\n",
       "73646                                    0                      0   \n",
       "1141771                                  0                      0   \n",
       "439582                                   1                      0   \n",
       "132020                                   1                      0   \n",
       "4914                                     1                      0   \n",
       "\n",
       "         CODE_REJECT_REASON_SYSTEM  NAME_PORTFOLIO_POS  NAME_PORTFOLIO_XNA  \n",
       "73646                            0                   0                   0  \n",
       "1141771                          0                   0                   0  \n",
       "439582                           0                   1                   0  \n",
       "132020                           0                   1                   0  \n",
       "4914                             0                   1                   0  "
      ]
     },
     "execution_count": 48,
     "metadata": {},
     "output_type": "execute_result"
    }
   ],
   "source": [
    "X_train.head()"
   ]
  },
  {
   "cell_type": "markdown",
   "id": "bcd0db63",
   "metadata": {},
   "source": [
    "# Build a Gaussian Naive Bayes Model"
   ]
  },
  {
   "cell_type": "code",
   "execution_count": 49,
   "id": "50680823",
   "metadata": {},
   "outputs": [
    {
     "data": {
      "text/html": [
       "<style>#sk-container-id-1 {color: black;background-color: white;}#sk-container-id-1 pre{padding: 0;}#sk-container-id-1 div.sk-toggleable {background-color: white;}#sk-container-id-1 label.sk-toggleable__label {cursor: pointer;display: block;width: 100%;margin-bottom: 0;padding: 0.3em;box-sizing: border-box;text-align: center;}#sk-container-id-1 label.sk-toggleable__label-arrow:before {content: \"▸\";float: left;margin-right: 0.25em;color: #696969;}#sk-container-id-1 label.sk-toggleable__label-arrow:hover:before {color: black;}#sk-container-id-1 div.sk-estimator:hover label.sk-toggleable__label-arrow:before {color: black;}#sk-container-id-1 div.sk-toggleable__content {max-height: 0;max-width: 0;overflow: hidden;text-align: left;background-color: #f0f8ff;}#sk-container-id-1 div.sk-toggleable__content pre {margin: 0.2em;color: black;border-radius: 0.25em;background-color: #f0f8ff;}#sk-container-id-1 input.sk-toggleable__control:checked~div.sk-toggleable__content {max-height: 200px;max-width: 100%;overflow: auto;}#sk-container-id-1 input.sk-toggleable__control:checked~label.sk-toggleable__label-arrow:before {content: \"▾\";}#sk-container-id-1 div.sk-estimator input.sk-toggleable__control:checked~label.sk-toggleable__label {background-color: #d4ebff;}#sk-container-id-1 div.sk-label input.sk-toggleable__control:checked~label.sk-toggleable__label {background-color: #d4ebff;}#sk-container-id-1 input.sk-hidden--visually {border: 0;clip: rect(1px 1px 1px 1px);clip: rect(1px, 1px, 1px, 1px);height: 1px;margin: -1px;overflow: hidden;padding: 0;position: absolute;width: 1px;}#sk-container-id-1 div.sk-estimator {font-family: monospace;background-color: #f0f8ff;border: 1px dotted black;border-radius: 0.25em;box-sizing: border-box;margin-bottom: 0.5em;}#sk-container-id-1 div.sk-estimator:hover {background-color: #d4ebff;}#sk-container-id-1 div.sk-parallel-item::after {content: \"\";width: 100%;border-bottom: 1px solid gray;flex-grow: 1;}#sk-container-id-1 div.sk-label:hover label.sk-toggleable__label {background-color: #d4ebff;}#sk-container-id-1 div.sk-serial::before {content: \"\";position: absolute;border-left: 1px solid gray;box-sizing: border-box;top: 0;bottom: 0;left: 50%;z-index: 0;}#sk-container-id-1 div.sk-serial {display: flex;flex-direction: column;align-items: center;background-color: white;padding-right: 0.2em;padding-left: 0.2em;position: relative;}#sk-container-id-1 div.sk-item {position: relative;z-index: 1;}#sk-container-id-1 div.sk-parallel {display: flex;align-items: stretch;justify-content: center;background-color: white;position: relative;}#sk-container-id-1 div.sk-item::before, #sk-container-id-1 div.sk-parallel-item::before {content: \"\";position: absolute;border-left: 1px solid gray;box-sizing: border-box;top: 0;bottom: 0;left: 50%;z-index: -1;}#sk-container-id-1 div.sk-parallel-item {display: flex;flex-direction: column;z-index: 1;position: relative;background-color: white;}#sk-container-id-1 div.sk-parallel-item:first-child::after {align-self: flex-end;width: 50%;}#sk-container-id-1 div.sk-parallel-item:last-child::after {align-self: flex-start;width: 50%;}#sk-container-id-1 div.sk-parallel-item:only-child::after {width: 0;}#sk-container-id-1 div.sk-dashed-wrapped {border: 1px dashed gray;margin: 0 0.4em 0.5em 0.4em;box-sizing: border-box;padding-bottom: 0.4em;background-color: white;}#sk-container-id-1 div.sk-label label {font-family: monospace;font-weight: bold;display: inline-block;line-height: 1.2em;}#sk-container-id-1 div.sk-label-container {text-align: center;}#sk-container-id-1 div.sk-container {/* jupyter's `normalize.less` sets `[hidden] { display: none; }` but bootstrap.min.css set `[hidden] { display: none !important; }` so we also need the `!important` here to be able to override the default hidden behavior on the sphinx rendered scikit-learn.org. See: https://github.com/scikit-learn/scikit-learn/issues/21755 */display: inline-block !important;position: relative;}#sk-container-id-1 div.sk-text-repr-fallback {display: none;}</style><div id=\"sk-container-id-1\" class=\"sk-top-container\"><div class=\"sk-text-repr-fallback\"><pre>GaussianNB()</pre><b>In a Jupyter environment, please rerun this cell to show the HTML representation or trust the notebook. <br />On GitHub, the HTML representation is unable to render, please try loading this page with nbviewer.org.</b></div><div class=\"sk-container\" hidden><div class=\"sk-item\"><div class=\"sk-estimator sk-toggleable\"><input class=\"sk-toggleable__control sk-hidden--visually\" id=\"sk-estimator-id-1\" type=\"checkbox\" checked><label for=\"sk-estimator-id-1\" class=\"sk-toggleable__label sk-toggleable__label-arrow\">GaussianNB</label><div class=\"sk-toggleable__content\"><pre>GaussianNB()</pre></div></div></div></div></div>"
      ],
      "text/plain": [
       "GaussianNB()"
      ]
     },
     "execution_count": 49,
     "metadata": {},
     "output_type": "execute_result"
    }
   ],
   "source": [
    "# train a Gaussian Naive Bayes classifier on the training set\n",
    "from sklearn.naive_bayes import GaussianNB\n",
    "\n",
    "\n",
    "# instantiate the model\n",
    "gnb = GaussianNB()\n",
    "\n",
    "\n",
    "# fit the model\n",
    "gnb.fit(X_train, y_train)"
   ]
  },
  {
   "cell_type": "code",
   "execution_count": 50,
   "id": "bf3d3b51",
   "metadata": {},
   "outputs": [],
   "source": [
    "# Predict class labels for X_train\n",
    "y_pred = gnb.predict(X_train)"
   ]
  },
  {
   "cell_type": "code",
   "execution_count": 51,
   "id": "0de1b0c0",
   "metadata": {},
   "outputs": [],
   "source": [
    "# Predict class probabilities for X_train\n",
    "y_pred_prob = gnb.predict_proba(X_train)\n",
    "\n"
   ]
  },
  {
   "cell_type": "code",
   "execution_count": 52,
   "id": "3dac4ed5",
   "metadata": {},
   "outputs": [],
   "source": [
    "# Create a dataframe with predicted class labels and probabilities\n",
    "result_df = pd.DataFrame(y_pred_prob, columns=gnb.classes_)\n",
    "result_df['target'] = y_pred\n"
   ]
  },
  {
   "cell_type": "code",
   "execution_count": 53,
   "id": "f5130c30",
   "metadata": {},
   "outputs": [
    {
     "name": "stdout",
     "output_type": "stream",
     "text": [
      "             0         1  target\n",
      "0     0.739159  0.260841       0\n",
      "1     0.762468  0.237532       0\n",
      "2     0.782033  0.217967       0\n",
      "3     0.786854  0.213146       0\n",
      "4     0.772554  0.227446       0\n",
      "...        ...       ...     ...\n",
      "1495  0.755266  0.244734       0\n",
      "1496  0.764297  0.235703       0\n",
      "1497  0.773010  0.226990       0\n",
      "1498  0.762598  0.237402       0\n",
      "1499  0.786099  0.213901       0\n",
      "\n",
      "[1500 rows x 3 columns]\n"
     ]
    }
   ],
   "source": [
    "\n",
    "# Print the resulting dataframe\n",
    "print(result_df)\n"
   ]
  },
  {
   "cell_type": "code",
   "execution_count": 54,
   "id": "5d0d516d",
   "metadata": {},
   "outputs": [],
   "source": [
    "y_pred = gnb.predict(X_train)\n",
    "y_probs = gnb.predict_proba(X_train)"
   ]
  },
  {
   "cell_type": "code",
   "execution_count": 55,
   "id": "d33d7425",
   "metadata": {},
   "outputs": [
    {
     "name": "stdout",
     "output_type": "stream",
     "text": [
      "         SK_ID_CURR  CODE_REJECT_REASON_XAP  NAME_PORTFOLIO_POS  \\\n",
      "73646        442210                       1                   0   \n",
      "1141771      313301                       1                   0   \n",
      "439582       100687                       1                   1   \n",
      "132020       351021                       1                   1   \n",
      "4914         429801                       1                   1   \n",
      "...             ...                     ...                 ...   \n",
      "239029       369008                       1                   0   \n",
      "140153       194348                       1                   0   \n",
      "907881       427849                       1                   1   \n",
      "54997        171845                       1                   0   \n",
      "291656       127058                       1                   1   \n",
      "\n",
      "         NAME_CONTRACT_TYPE_Consumer loans  CODE_REJECT_REASON_HC  \\\n",
      "73646                                    0                      0   \n",
      "1141771                                  0                      0   \n",
      "439582                                   1                      0   \n",
      "132020                                   1                      0   \n",
      "4914                                     1                      0   \n",
      "...                                    ...                    ...   \n",
      "239029                                   0                      0   \n",
      "140153                                   0                      0   \n",
      "907881                                   1                      0   \n",
      "54997                                    0                      0   \n",
      "291656                                   1                      0   \n",
      "\n",
      "         CODE_REJECT_REASON_SYSTEM  NAME_PORTFOLIO_POS  NAME_PORTFOLIO_XNA  \\\n",
      "73646                            0                   0                   0   \n",
      "1141771                          0                   0                   0   \n",
      "439582                           0                   1                   0   \n",
      "132020                           0                   1                   0   \n",
      "4914                             0                   1                   0   \n",
      "...                            ...                 ...                 ...   \n",
      "239029                           0                   0                   0   \n",
      "140153                           0                   0                   0   \n",
      "907881                           0                   1                   0   \n",
      "54997                            0                   0                   0   \n",
      "291656                           0                   1                   0   \n",
      "\n",
      "         target    prob_0    prob_1  \n",
      "73646         0  0.739159  0.260841  \n",
      "1141771       0  0.762468  0.237532  \n",
      "439582        0  0.782033  0.217967  \n",
      "132020        0  0.786854  0.213146  \n",
      "4914          0  0.772554  0.227446  \n",
      "...         ...       ...       ...  \n",
      "239029        0  0.755266  0.244734  \n",
      "140153        0  0.764297  0.235703  \n",
      "907881        0  0.773010  0.226990  \n",
      "54997         0  0.762598  0.237402  \n",
      "291656        0  0.786099  0.213901  \n",
      "\n",
      "[1500 rows x 11 columns]\n"
     ]
    }
   ],
   "source": [
    "# Predict class labels and probabilities for training data\n",
    "y_pred = gnb.predict(X_train)\n",
    "y_probs = gnb.predict_proba(X_train)\n",
    "\n",
    "# Create a dataframe with original X_train column names and \"target\" column\n",
    "result_df = pd.DataFrame(X_train, columns=X_train.columns)\n",
    "result_df['target'] = y_pred\n",
    "\n",
    "# Add columns for class probabilities\n",
    "for i, class_name in enumerate(gnb.classes_):\n",
    "    result_df[f'prob_{class_name}'] = y_probs[:, i]\n",
    "\n",
    "# Display the resulting dataframe\n",
    "print(result_df)\n"
   ]
  },
  {
   "cell_type": "code",
   "execution_count": 56,
   "id": "cabdac34",
   "metadata": {},
   "outputs": [
    {
     "name": "stdout",
     "output_type": "stream",
     "text": [
      "         SK_ID_CURR  CODE_REJECT_REASON_XAP  NAME_PORTFOLIO_POS  \\\n",
      "73646        442210                       1                   0   \n",
      "1141771      313301                       1                   0   \n",
      "439582       100687                       1                   1   \n",
      "132020       351021                       1                   1   \n",
      "4914         429801                       1                   1   \n",
      "...             ...                     ...                 ...   \n",
      "239029       369008                       1                   0   \n",
      "140153       194348                       1                   0   \n",
      "907881       427849                       1                   1   \n",
      "54997        171845                       1                   0   \n",
      "291656       127058                       1                   1   \n",
      "\n",
      "         NAME_CONTRACT_TYPE_Consumer loans  CODE_REJECT_REASON_HC  \\\n",
      "73646                                    0                      0   \n",
      "1141771                                  0                      0   \n",
      "439582                                   1                      0   \n",
      "132020                                   1                      0   \n",
      "4914                                     1                      0   \n",
      "...                                    ...                    ...   \n",
      "239029                                   0                      0   \n",
      "140153                                   0                      0   \n",
      "907881                                   1                      0   \n",
      "54997                                    0                      0   \n",
      "291656                                   1                      0   \n",
      "\n",
      "         CODE_REJECT_REASON_SYSTEM  NAME_PORTFOLIO_POS  NAME_PORTFOLIO_XNA  \\\n",
      "73646                            0                   0                   0   \n",
      "1141771                          0                   0                   0   \n",
      "439582                           0                   1                   0   \n",
      "132020                           0                   1                   0   \n",
      "4914                             0                   1                   0   \n",
      "...                            ...                 ...                 ...   \n",
      "239029                           0                   0                   0   \n",
      "140153                           0                   0                   0   \n",
      "907881                           0                   1                   0   \n",
      "54997                            0                   0                   0   \n",
      "291656                           0                   1                   0   \n",
      "\n",
      "         target    prob_0    prob_1  \n",
      "73646         0  0.739159  0.260841  \n",
      "1141771       0  0.762468  0.237532  \n",
      "439582        0  0.782033  0.217967  \n",
      "132020        0  0.786854  0.213146  \n",
      "4914          0  0.772554  0.227446  \n",
      "...         ...       ...       ...  \n",
      "239029        0  0.755266  0.244734  \n",
      "140153        0  0.764297  0.235703  \n",
      "907881        0  0.773010  0.226990  \n",
      "54997         0  0.762598  0.237402  \n",
      "291656        0  0.786099  0.213901  \n",
      "\n",
      "[1500 rows x 11 columns]\n"
     ]
    }
   ],
   "source": [
    "# Create a dataframe with original X_train column names and \"target\" column\n",
    "result_df = pd.DataFrame(X_train, columns=X_train.columns)\n",
    "result_df['target'] = y_pred\n",
    "\n",
    "# Add columns for class probabilities\n",
    "for i, class_name in enumerate(gnb.classes_):\n",
    "    result_df[f'prob_{class_name}'] = y_probs[:, i]\n",
    "\n",
    "# Display the resulting dataframe\n",
    "print(result_df)\n"
   ]
  },
  {
   "cell_type": "code",
   "execution_count": 57,
   "id": "4f4e1653",
   "metadata": {},
   "outputs": [
    {
     "name": "stdout",
     "output_type": "stream",
     "text": [
      "<class 'pandas.core.frame.DataFrame'>\n",
      "Int64Index: 1500 entries, 73646 to 291656\n",
      "Data columns (total 11 columns):\n",
      " #   Column                             Non-Null Count  Dtype  \n",
      "---  ------                             --------------  -----  \n",
      " 0   SK_ID_CURR                         1500 non-null   int64  \n",
      " 1   CODE_REJECT_REASON_XAP             1500 non-null   uint8  \n",
      " 2   NAME_PORTFOLIO_POS                 1500 non-null   uint8  \n",
      " 3   NAME_CONTRACT_TYPE_Consumer loans  1500 non-null   uint8  \n",
      " 4   CODE_REJECT_REASON_HC              1500 non-null   uint8  \n",
      " 5   CODE_REJECT_REASON_SYSTEM          1500 non-null   uint8  \n",
      " 6   NAME_PORTFOLIO_POS                 1500 non-null   uint8  \n",
      " 7   NAME_PORTFOLIO_XNA                 1500 non-null   uint8  \n",
      " 8   target                             1500 non-null   int64  \n",
      " 9   prob_0                             1500 non-null   float64\n",
      " 10  prob_1                             1500 non-null   float64\n",
      "dtypes: float64(2), int64(2), uint8(7)\n",
      "memory usage: 68.8 KB\n"
     ]
    }
   ],
   "source": [
    "result_df.info()"
   ]
  },
  {
   "cell_type": "code",
   "execution_count": 58,
   "id": "6161fabc",
   "metadata": {},
   "outputs": [
    {
     "name": "stdout",
     "output_type": "stream",
     "text": [
      "<class 'pandas.core.frame.DataFrame'>\n",
      "Int64Index: 1500 entries, 73646 to 291656\n",
      "Data columns (total 11 columns):\n",
      " #   Column                             Non-Null Count  Dtype  \n",
      "---  ------                             --------------  -----  \n",
      " 0   SK_ID_CURR                         1500 non-null   int64  \n",
      " 1   CODE_REJECT_REASON_XAP             1500 non-null   uint8  \n",
      " 2   NAME_PORTFOLIO_POS                 1500 non-null   uint8  \n",
      " 3   NAME_CONTRACT_TYPE_Consumer loans  1500 non-null   uint8  \n",
      " 4   CODE_REJECT_REASON_HC              1500 non-null   uint8  \n",
      " 5   CODE_REJECT_REASON_SYSTEM          1500 non-null   uint8  \n",
      " 6   NAME_PORTFOLIO_POS                 1500 non-null   uint8  \n",
      " 7   NAME_PORTFOLIO_XNA                 1500 non-null   uint8  \n",
      " 8   target                             1500 non-null   int64  \n",
      " 9   prob_0                             1500 non-null   float64\n",
      " 10  prob_1                             1500 non-null   float64\n",
      "dtypes: float64(2), int64(2), uint8(7)\n",
      "memory usage: 68.8 KB\n"
     ]
    }
   ],
   "source": [
    "result_df.info()"
   ]
  },
  {
   "cell_type": "code",
   "execution_count": 59,
   "id": "57646d27",
   "metadata": {},
   "outputs": [],
   "source": [
    "result_df1=result_df[['SK_ID_CURR','target','prob_0','prob_1']].copy()"
   ]
  },
  {
   "cell_type": "code",
   "execution_count": 60,
   "id": "7827108b",
   "metadata": {},
   "outputs": [
    {
     "name": "stdout",
     "output_type": "stream",
     "text": [
      "<class 'pandas.core.frame.DataFrame'>\n",
      "Int64Index: 1500 entries, 73646 to 291656\n",
      "Data columns (total 4 columns):\n",
      " #   Column      Non-Null Count  Dtype  \n",
      "---  ------      --------------  -----  \n",
      " 0   SK_ID_CURR  1500 non-null   int64  \n",
      " 1   target      1500 non-null   int64  \n",
      " 2   prob_0      1500 non-null   float64\n",
      " 3   prob_1      1500 non-null   float64\n",
      "dtypes: float64(2), int64(2)\n",
      "memory usage: 58.6 KB\n"
     ]
    }
   ],
   "source": [
    "result_df1.info()"
   ]
  },
  {
   "cell_type": "code",
   "execution_count": 61,
   "id": "a2626037",
   "metadata": {},
   "outputs": [
    {
     "data": {
      "text/plain": [
       "0    1500\n",
       "Name: target, dtype: int64"
      ]
     },
     "execution_count": 61,
     "metadata": {},
     "output_type": "execute_result"
    }
   ],
   "source": [
    "#loan12['NAME_CONTRACT_STATUS'].value_counts()\n",
    "result_df1['target'].value_counts()"
   ]
  },
  {
   "cell_type": "markdown",
   "id": "8bb6cf1f",
   "metadata": {},
   "source": [
    "# BRING in application_train csv"
   ]
  },
  {
   "cell_type": "code",
   "execution_count": 62,
   "id": "2c0279b1",
   "metadata": {},
   "outputs": [],
   "source": [
    "data1 = pd.read_csv(\"application_train.csv\")"
   ]
  },
  {
   "cell_type": "code",
   "execution_count": 63,
   "id": "29dd61cc",
   "metadata": {},
   "outputs": [],
   "source": [
    "app_train1 = data1.copy()"
   ]
  },
  {
   "cell_type": "code",
   "execution_count": 64,
   "id": "3b68855f",
   "metadata": {},
   "outputs": [
    {
     "name": "stdout",
     "output_type": "stream",
     "text": [
      "<class 'pandas.core.frame.DataFrame'>\n",
      "RangeIndex: 307511 entries, 0 to 307510\n",
      "Columns: 122 entries, SK_ID_CURR to AMT_REQ_CREDIT_BUREAU_YEAR\n",
      "dtypes: float64(65), int64(41), object(16)\n",
      "memory usage: 286.2+ MB\n"
     ]
    }
   ],
   "source": [
    "app_train1.info()"
   ]
  },
  {
   "cell_type": "markdown",
   "id": "8642df62",
   "metadata": {},
   "source": [
    "# MERGE"
   ]
  },
  {
   "cell_type": "code",
   "execution_count": 65,
   "id": "0c61fc10",
   "metadata": {},
   "outputs": [],
   "source": [
    "app_train6=pd.merge(loan11, result_df1, on = \"SK_ID_CURR\", how = \"right\")"
   ]
  },
  {
   "cell_type": "code",
   "execution_count": 66,
   "id": "344f7301",
   "metadata": {},
   "outputs": [
    {
     "data": {
      "text/plain": [
       "(1500, 12)"
      ]
     },
     "execution_count": 66,
     "metadata": {},
     "output_type": "execute_result"
    }
   ],
   "source": [
    "app_train6.shape"
   ]
  },
  {
   "cell_type": "code",
   "execution_count": 67,
   "id": "cf635e12",
   "metadata": {},
   "outputs": [
    {
     "data": {
      "text/html": [
       "<div>\n",
       "<style scoped>\n",
       "    .dataframe tbody tr th:only-of-type {\n",
       "        vertical-align: middle;\n",
       "    }\n",
       "\n",
       "    .dataframe tbody tr th {\n",
       "        vertical-align: top;\n",
       "    }\n",
       "\n",
       "    .dataframe thead th {\n",
       "        text-align: right;\n",
       "    }\n",
       "</style>\n",
       "<table border=\"1\" class=\"dataframe\">\n",
       "  <thead>\n",
       "    <tr style=\"text-align: right;\">\n",
       "      <th></th>\n",
       "      <th>SK_ID_CURR</th>\n",
       "      <th>CODE_REJECT_REASON_XAP</th>\n",
       "      <th>NAME_PORTFOLIO_POS</th>\n",
       "      <th>NAME_CONTRACT_TYPE_Consumer loans</th>\n",
       "      <th>CODE_REJECT_REASON_HC</th>\n",
       "      <th>CODE_REJECT_REASON_SYSTEM</th>\n",
       "      <th>NAME_PORTFOLIO_POS</th>\n",
       "      <th>NAME_PORTFOLIO_XNA</th>\n",
       "      <th>NAME_CONTRACT_STATUS</th>\n",
       "      <th>target</th>\n",
       "      <th>prob_0</th>\n",
       "      <th>prob_1</th>\n",
       "    </tr>\n",
       "  </thead>\n",
       "  <tbody>\n",
       "    <tr>\n",
       "      <th>0</th>\n",
       "      <td>442210</td>\n",
       "      <td>1</td>\n",
       "      <td>0</td>\n",
       "      <td>0</td>\n",
       "      <td>0</td>\n",
       "      <td>0</td>\n",
       "      <td>0</td>\n",
       "      <td>0</td>\n",
       "      <td>0</td>\n",
       "      <td>0</td>\n",
       "      <td>0.739159</td>\n",
       "      <td>0.260841</td>\n",
       "    </tr>\n",
       "    <tr>\n",
       "      <th>1</th>\n",
       "      <td>313301</td>\n",
       "      <td>1</td>\n",
       "      <td>0</td>\n",
       "      <td>0</td>\n",
       "      <td>0</td>\n",
       "      <td>0</td>\n",
       "      <td>0</td>\n",
       "      <td>0</td>\n",
       "      <td>0</td>\n",
       "      <td>0</td>\n",
       "      <td>0.762468</td>\n",
       "      <td>0.237532</td>\n",
       "    </tr>\n",
       "    <tr>\n",
       "      <th>2</th>\n",
       "      <td>100687</td>\n",
       "      <td>1</td>\n",
       "      <td>1</td>\n",
       "      <td>1</td>\n",
       "      <td>0</td>\n",
       "      <td>0</td>\n",
       "      <td>1</td>\n",
       "      <td>0</td>\n",
       "      <td>0</td>\n",
       "      <td>0</td>\n",
       "      <td>0.782033</td>\n",
       "      <td>0.217967</td>\n",
       "    </tr>\n",
       "    <tr>\n",
       "      <th>3</th>\n",
       "      <td>351021</td>\n",
       "      <td>1</td>\n",
       "      <td>1</td>\n",
       "      <td>1</td>\n",
       "      <td>0</td>\n",
       "      <td>0</td>\n",
       "      <td>1</td>\n",
       "      <td>0</td>\n",
       "      <td>0</td>\n",
       "      <td>0</td>\n",
       "      <td>0.786854</td>\n",
       "      <td>0.213146</td>\n",
       "    </tr>\n",
       "    <tr>\n",
       "      <th>4</th>\n",
       "      <td>429801</td>\n",
       "      <td>1</td>\n",
       "      <td>1</td>\n",
       "      <td>1</td>\n",
       "      <td>0</td>\n",
       "      <td>0</td>\n",
       "      <td>1</td>\n",
       "      <td>0</td>\n",
       "      <td>0</td>\n",
       "      <td>0</td>\n",
       "      <td>0.772554</td>\n",
       "      <td>0.227446</td>\n",
       "    </tr>\n",
       "  </tbody>\n",
       "</table>\n",
       "</div>"
      ],
      "text/plain": [
       "   SK_ID_CURR  CODE_REJECT_REASON_XAP  NAME_PORTFOLIO_POS  \\\n",
       "0      442210                       1                   0   \n",
       "1      313301                       1                   0   \n",
       "2      100687                       1                   1   \n",
       "3      351021                       1                   1   \n",
       "4      429801                       1                   1   \n",
       "\n",
       "   NAME_CONTRACT_TYPE_Consumer loans  CODE_REJECT_REASON_HC  \\\n",
       "0                                  0                      0   \n",
       "1                                  0                      0   \n",
       "2                                  1                      0   \n",
       "3                                  1                      0   \n",
       "4                                  1                      0   \n",
       "\n",
       "   CODE_REJECT_REASON_SYSTEM  NAME_PORTFOLIO_POS  NAME_PORTFOLIO_XNA  \\\n",
       "0                          0                   0                   0   \n",
       "1                          0                   0                   0   \n",
       "2                          0                   1                   0   \n",
       "3                          0                   1                   0   \n",
       "4                          0                   1                   0   \n",
       "\n",
       "   NAME_CONTRACT_STATUS  target    prob_0    prob_1  \n",
       "0                     0       0  0.739159  0.260841  \n",
       "1                     0       0  0.762468  0.237532  \n",
       "2                     0       0  0.782033  0.217967  \n",
       "3                     0       0  0.786854  0.213146  \n",
       "4                     0       0  0.772554  0.227446  "
      ]
     },
     "execution_count": 67,
     "metadata": {},
     "output_type": "execute_result"
    }
   ],
   "source": [
    "app_train6.head()"
   ]
  },
  {
   "cell_type": "markdown",
   "id": "3fb9ddbd",
   "metadata": {},
   "source": [
    "# PAUSE, USE THE RIGHT DATAFRAME"
   ]
  },
  {
   "cell_type": "code",
   "execution_count": 68,
   "id": "ee3972c7",
   "metadata": {},
   "outputs": [
    {
     "name": "stdout",
     "output_type": "stream",
     "text": [
      "<class 'pandas.core.frame.DataFrame'>\n",
      "Int64Index: 1500 entries, 0 to 1499\n",
      "Data columns (total 12 columns):\n",
      " #   Column                             Non-Null Count  Dtype  \n",
      "---  ------                             --------------  -----  \n",
      " 0   SK_ID_CURR                         1500 non-null   int64  \n",
      " 1   CODE_REJECT_REASON_XAP             1500 non-null   uint8  \n",
      " 2   NAME_PORTFOLIO_POS                 1500 non-null   uint8  \n",
      " 3   NAME_CONTRACT_TYPE_Consumer loans  1500 non-null   uint8  \n",
      " 4   CODE_REJECT_REASON_HC              1500 non-null   uint8  \n",
      " 5   CODE_REJECT_REASON_SYSTEM          1500 non-null   uint8  \n",
      " 6   NAME_PORTFOLIO_POS                 1500 non-null   uint8  \n",
      " 7   NAME_PORTFOLIO_XNA                 1500 non-null   uint8  \n",
      " 8   NAME_CONTRACT_STATUS               1500 non-null   int64  \n",
      " 9   target                             1500 non-null   int64  \n",
      " 10  prob_0                             1500 non-null   float64\n",
      " 11  prob_1                             1500 non-null   float64\n",
      "dtypes: float64(2), int64(3), uint8(7)\n",
      "memory usage: 80.6 KB\n"
     ]
    }
   ],
   "source": [
    "app_train6.info()"
   ]
  },
  {
   "cell_type": "code",
   "execution_count": null,
   "id": "66d6f05d",
   "metadata": {},
   "outputs": [],
   "source": []
  },
  {
   "cell_type": "code",
   "execution_count": 69,
   "id": "107dad6e",
   "metadata": {},
   "outputs": [
    {
     "data": {
      "text/html": [
       "<div>\n",
       "<style scoped>\n",
       "    .dataframe tbody tr th:only-of-type {\n",
       "        vertical-align: middle;\n",
       "    }\n",
       "\n",
       "    .dataframe tbody tr th {\n",
       "        vertical-align: top;\n",
       "    }\n",
       "\n",
       "    .dataframe thead th {\n",
       "        text-align: right;\n",
       "    }\n",
       "</style>\n",
       "<table border=\"1\" class=\"dataframe\">\n",
       "  <thead>\n",
       "    <tr style=\"text-align: right;\">\n",
       "      <th></th>\n",
       "      <th>SK_ID_CURR</th>\n",
       "      <th>CODE_REJECT_REASON_XAP</th>\n",
       "      <th>NAME_PORTFOLIO_POS</th>\n",
       "      <th>NAME_CONTRACT_TYPE_Consumer loans</th>\n",
       "      <th>CODE_REJECT_REASON_HC</th>\n",
       "      <th>CODE_REJECT_REASON_SYSTEM</th>\n",
       "      <th>NAME_PORTFOLIO_POS</th>\n",
       "      <th>NAME_PORTFOLIO_XNA</th>\n",
       "      <th>NAME_CONTRACT_STATUS</th>\n",
       "    </tr>\n",
       "  </thead>\n",
       "  <tbody>\n",
       "    <tr>\n",
       "      <th>737318</th>\n",
       "      <td>248439</td>\n",
       "      <td>1</td>\n",
       "      <td>1</td>\n",
       "      <td>1</td>\n",
       "      <td>0</td>\n",
       "      <td>0</td>\n",
       "      <td>1</td>\n",
       "      <td>0</td>\n",
       "      <td>0</td>\n",
       "    </tr>\n",
       "    <tr>\n",
       "      <th>382029</th>\n",
       "      <td>455947</td>\n",
       "      <td>1</td>\n",
       "      <td>0</td>\n",
       "      <td>0</td>\n",
       "      <td>0</td>\n",
       "      <td>0</td>\n",
       "      <td>0</td>\n",
       "      <td>0</td>\n",
       "      <td>0</td>\n",
       "    </tr>\n",
       "    <tr>\n",
       "      <th>65164</th>\n",
       "      <td>130748</td>\n",
       "      <td>1</td>\n",
       "      <td>0</td>\n",
       "      <td>0</td>\n",
       "      <td>0</td>\n",
       "      <td>0</td>\n",
       "      <td>0</td>\n",
       "      <td>0</td>\n",
       "      <td>0</td>\n",
       "    </tr>\n",
       "    <tr>\n",
       "      <th>103459</th>\n",
       "      <td>411314</td>\n",
       "      <td>1</td>\n",
       "      <td>1</td>\n",
       "      <td>1</td>\n",
       "      <td>0</td>\n",
       "      <td>0</td>\n",
       "      <td>1</td>\n",
       "      <td>0</td>\n",
       "      <td>0</td>\n",
       "    </tr>\n",
       "    <tr>\n",
       "      <th>1424460</th>\n",
       "      <td>251033</td>\n",
       "      <td>1</td>\n",
       "      <td>1</td>\n",
       "      <td>1</td>\n",
       "      <td>0</td>\n",
       "      <td>0</td>\n",
       "      <td>1</td>\n",
       "      <td>0</td>\n",
       "      <td>0</td>\n",
       "    </tr>\n",
       "  </tbody>\n",
       "</table>\n",
       "</div>"
      ],
      "text/plain": [
       "         SK_ID_CURR  CODE_REJECT_REASON_XAP  NAME_PORTFOLIO_POS  \\\n",
       "737318       248439                       1                   1   \n",
       "382029       455947                       1                   0   \n",
       "65164        130748                       1                   0   \n",
       "103459       411314                       1                   1   \n",
       "1424460      251033                       1                   1   \n",
       "\n",
       "         NAME_CONTRACT_TYPE_Consumer loans  CODE_REJECT_REASON_HC  \\\n",
       "737318                                   1                      0   \n",
       "382029                                   0                      0   \n",
       "65164                                    0                      0   \n",
       "103459                                   1                      0   \n",
       "1424460                                  1                      0   \n",
       "\n",
       "         CODE_REJECT_REASON_SYSTEM  NAME_PORTFOLIO_POS  NAME_PORTFOLIO_XNA  \\\n",
       "737318                           0                   1                   0   \n",
       "382029                           0                   0                   0   \n",
       "65164                            0                   0                   0   \n",
       "103459                           0                   1                   0   \n",
       "1424460                          0                   1                   0   \n",
       "\n",
       "         NAME_CONTRACT_STATUS  \n",
       "737318                      0  \n",
       "382029                      0  \n",
       "65164                       0  \n",
       "103459                      0  \n",
       "1424460                     0  "
      ]
     },
     "execution_count": 69,
     "metadata": {},
     "output_type": "execute_result"
    }
   ],
   "source": [
    "loan11.head()"
   ]
  },
  {
   "cell_type": "code",
   "execution_count": 70,
   "id": "aef074ed",
   "metadata": {},
   "outputs": [
    {
     "data": {
      "text/html": [
       "<div>\n",
       "<style scoped>\n",
       "    .dataframe tbody tr th:only-of-type {\n",
       "        vertical-align: middle;\n",
       "    }\n",
       "\n",
       "    .dataframe tbody tr th {\n",
       "        vertical-align: top;\n",
       "    }\n",
       "\n",
       "    .dataframe thead th {\n",
       "        text-align: right;\n",
       "    }\n",
       "</style>\n",
       "<table border=\"1\" class=\"dataframe\">\n",
       "  <thead>\n",
       "    <tr style=\"text-align: right;\">\n",
       "      <th></th>\n",
       "      <th>SK_ID_CURR</th>\n",
       "      <th>target</th>\n",
       "      <th>prob_0</th>\n",
       "      <th>prob_1</th>\n",
       "    </tr>\n",
       "  </thead>\n",
       "  <tbody>\n",
       "    <tr>\n",
       "      <th>73646</th>\n",
       "      <td>442210</td>\n",
       "      <td>0</td>\n",
       "      <td>0.739159</td>\n",
       "      <td>0.260841</td>\n",
       "    </tr>\n",
       "    <tr>\n",
       "      <th>1141771</th>\n",
       "      <td>313301</td>\n",
       "      <td>0</td>\n",
       "      <td>0.762468</td>\n",
       "      <td>0.237532</td>\n",
       "    </tr>\n",
       "    <tr>\n",
       "      <th>439582</th>\n",
       "      <td>100687</td>\n",
       "      <td>0</td>\n",
       "      <td>0.782033</td>\n",
       "      <td>0.217967</td>\n",
       "    </tr>\n",
       "    <tr>\n",
       "      <th>132020</th>\n",
       "      <td>351021</td>\n",
       "      <td>0</td>\n",
       "      <td>0.786854</td>\n",
       "      <td>0.213146</td>\n",
       "    </tr>\n",
       "    <tr>\n",
       "      <th>4914</th>\n",
       "      <td>429801</td>\n",
       "      <td>0</td>\n",
       "      <td>0.772554</td>\n",
       "      <td>0.227446</td>\n",
       "    </tr>\n",
       "  </tbody>\n",
       "</table>\n",
       "</div>"
      ],
      "text/plain": [
       "         SK_ID_CURR  target    prob_0    prob_1\n",
       "73646        442210       0  0.739159  0.260841\n",
       "1141771      313301       0  0.762468  0.237532\n",
       "439582       100687       0  0.782033  0.217967\n",
       "132020       351021       0  0.786854  0.213146\n",
       "4914         429801       0  0.772554  0.227446"
      ]
     },
     "execution_count": 70,
     "metadata": {},
     "output_type": "execute_result"
    }
   ],
   "source": [
    "result_df1.head()"
   ]
  },
  {
   "cell_type": "code",
   "execution_count": 71,
   "id": "488d12cc",
   "metadata": {},
   "outputs": [
    {
     "data": {
      "text/plain": [
       "(3000, 9)"
      ]
     },
     "execution_count": 71,
     "metadata": {},
     "output_type": "execute_result"
    }
   ],
   "source": [
    "loan11.shape"
   ]
  },
  {
   "cell_type": "code",
   "execution_count": 72,
   "id": "52550a3e",
   "metadata": {},
   "outputs": [
    {
     "data": {
      "text/plain": [
       "(1500, 4)"
      ]
     },
     "execution_count": 72,
     "metadata": {},
     "output_type": "execute_result"
    }
   ],
   "source": [
    "result_df1.shape"
   ]
  },
  {
   "cell_type": "code",
   "execution_count": 73,
   "id": "061b0db9",
   "metadata": {},
   "outputs": [
    {
     "data": {
      "text/plain": [
       "(1500, 12)"
      ]
     },
     "execution_count": 73,
     "metadata": {},
     "output_type": "execute_result"
    }
   ],
   "source": [
    "app_train6.shape"
   ]
  },
  {
   "cell_type": "code",
   "execution_count": 74,
   "id": "f177f8c9",
   "metadata": {},
   "outputs": [
    {
     "name": "stdout",
     "output_type": "stream",
     "text": [
      "<class 'pandas.core.frame.DataFrame'>\n",
      "Int64Index: 1500 entries, 0 to 1499\n",
      "Data columns (total 12 columns):\n",
      " #   Column                             Non-Null Count  Dtype  \n",
      "---  ------                             --------------  -----  \n",
      " 0   SK_ID_CURR                         1500 non-null   int64  \n",
      " 1   CODE_REJECT_REASON_XAP             1500 non-null   uint8  \n",
      " 2   NAME_PORTFOLIO_POS                 1500 non-null   uint8  \n",
      " 3   NAME_CONTRACT_TYPE_Consumer loans  1500 non-null   uint8  \n",
      " 4   CODE_REJECT_REASON_HC              1500 non-null   uint8  \n",
      " 5   CODE_REJECT_REASON_SYSTEM          1500 non-null   uint8  \n",
      " 6   NAME_PORTFOLIO_POS                 1500 non-null   uint8  \n",
      " 7   NAME_PORTFOLIO_XNA                 1500 non-null   uint8  \n",
      " 8   NAME_CONTRACT_STATUS               1500 non-null   int64  \n",
      " 9   target                             1500 non-null   int64  \n",
      " 10  prob_0                             1500 non-null   float64\n",
      " 11  prob_1                             1500 non-null   float64\n",
      "dtypes: float64(2), int64(3), uint8(7)\n",
      "memory usage: 80.6 KB\n"
     ]
    }
   ],
   "source": [
    "app_train6.info()"
   ]
  },
  {
   "cell_type": "code",
   "execution_count": 75,
   "id": "0daf32b4",
   "metadata": {},
   "outputs": [],
   "source": [
    "loan12=app_train6.copy()"
   ]
  },
  {
   "cell_type": "code",
   "execution_count": 76,
   "id": "8566c249",
   "metadata": {},
   "outputs": [
    {
     "name": "stdout",
     "output_type": "stream",
     "text": [
      "<class 'pandas.core.frame.DataFrame'>\n",
      "Int64Index: 1500 entries, 0 to 1499\n",
      "Data columns (total 12 columns):\n",
      " #   Column                             Non-Null Count  Dtype  \n",
      "---  ------                             --------------  -----  \n",
      " 0   SK_ID_CURR                         1500 non-null   int64  \n",
      " 1   CODE_REJECT_REASON_XAP             1500 non-null   uint8  \n",
      " 2   NAME_PORTFOLIO_POS                 1500 non-null   uint8  \n",
      " 3   NAME_CONTRACT_TYPE_Consumer loans  1500 non-null   uint8  \n",
      " 4   CODE_REJECT_REASON_HC              1500 non-null   uint8  \n",
      " 5   CODE_REJECT_REASON_SYSTEM          1500 non-null   uint8  \n",
      " 6   NAME_PORTFOLIO_POS                 1500 non-null   uint8  \n",
      " 7   NAME_PORTFOLIO_XNA                 1500 non-null   uint8  \n",
      " 8   NAME_CONTRACT_STATUS               1500 non-null   int64  \n",
      " 9   target                             1500 non-null   int64  \n",
      " 10  prob_0                             1500 non-null   float64\n",
      " 11  prob_1                             1500 non-null   float64\n",
      "dtypes: float64(2), int64(3), uint8(7)\n",
      "memory usage: 80.6 KB\n"
     ]
    }
   ],
   "source": [
    "loan12.info()"
   ]
  },
  {
   "cell_type": "markdown",
   "id": "7e2d408b",
   "metadata": {},
   "source": [
    "# Now continue from Assignment 4 with RANDOM FOREST"
   ]
  },
  {
   "cell_type": "code",
   "execution_count": 77,
   "id": "4029f21b",
   "metadata": {},
   "outputs": [
    {
     "data": {
      "text/html": [
       "<div>\n",
       "<style scoped>\n",
       "    .dataframe tbody tr th:only-of-type {\n",
       "        vertical-align: middle;\n",
       "    }\n",
       "\n",
       "    .dataframe tbody tr th {\n",
       "        vertical-align: top;\n",
       "    }\n",
       "\n",
       "    .dataframe thead th {\n",
       "        text-align: right;\n",
       "    }\n",
       "</style>\n",
       "<table border=\"1\" class=\"dataframe\">\n",
       "  <thead>\n",
       "    <tr style=\"text-align: right;\">\n",
       "      <th></th>\n",
       "      <th>SK_ID_CURR</th>\n",
       "      <th>CODE_REJECT_REASON_XAP</th>\n",
       "      <th>NAME_PORTFOLIO_POS</th>\n",
       "      <th>NAME_CONTRACT_TYPE_Consumer loans</th>\n",
       "      <th>CODE_REJECT_REASON_HC</th>\n",
       "      <th>CODE_REJECT_REASON_SYSTEM</th>\n",
       "      <th>NAME_PORTFOLIO_POS</th>\n",
       "      <th>NAME_PORTFOLIO_XNA</th>\n",
       "      <th>NAME_CONTRACT_STATUS</th>\n",
       "      <th>target</th>\n",
       "      <th>prob_0</th>\n",
       "      <th>prob_1</th>\n",
       "    </tr>\n",
       "  </thead>\n",
       "  <tbody>\n",
       "    <tr>\n",
       "      <th>0</th>\n",
       "      <td>442210</td>\n",
       "      <td>1</td>\n",
       "      <td>0</td>\n",
       "      <td>0</td>\n",
       "      <td>0</td>\n",
       "      <td>0</td>\n",
       "      <td>0</td>\n",
       "      <td>0</td>\n",
       "      <td>0</td>\n",
       "      <td>0</td>\n",
       "      <td>0.739159</td>\n",
       "      <td>0.260841</td>\n",
       "    </tr>\n",
       "    <tr>\n",
       "      <th>1</th>\n",
       "      <td>313301</td>\n",
       "      <td>1</td>\n",
       "      <td>0</td>\n",
       "      <td>0</td>\n",
       "      <td>0</td>\n",
       "      <td>0</td>\n",
       "      <td>0</td>\n",
       "      <td>0</td>\n",
       "      <td>0</td>\n",
       "      <td>0</td>\n",
       "      <td>0.762468</td>\n",
       "      <td>0.237532</td>\n",
       "    </tr>\n",
       "    <tr>\n",
       "      <th>2</th>\n",
       "      <td>100687</td>\n",
       "      <td>1</td>\n",
       "      <td>1</td>\n",
       "      <td>1</td>\n",
       "      <td>0</td>\n",
       "      <td>0</td>\n",
       "      <td>1</td>\n",
       "      <td>0</td>\n",
       "      <td>0</td>\n",
       "      <td>0</td>\n",
       "      <td>0.782033</td>\n",
       "      <td>0.217967</td>\n",
       "    </tr>\n",
       "    <tr>\n",
       "      <th>3</th>\n",
       "      <td>351021</td>\n",
       "      <td>1</td>\n",
       "      <td>1</td>\n",
       "      <td>1</td>\n",
       "      <td>0</td>\n",
       "      <td>0</td>\n",
       "      <td>1</td>\n",
       "      <td>0</td>\n",
       "      <td>0</td>\n",
       "      <td>0</td>\n",
       "      <td>0.786854</td>\n",
       "      <td>0.213146</td>\n",
       "    </tr>\n",
       "    <tr>\n",
       "      <th>4</th>\n",
       "      <td>429801</td>\n",
       "      <td>1</td>\n",
       "      <td>1</td>\n",
       "      <td>1</td>\n",
       "      <td>0</td>\n",
       "      <td>0</td>\n",
       "      <td>1</td>\n",
       "      <td>0</td>\n",
       "      <td>0</td>\n",
       "      <td>0</td>\n",
       "      <td>0.772554</td>\n",
       "      <td>0.227446</td>\n",
       "    </tr>\n",
       "  </tbody>\n",
       "</table>\n",
       "</div>"
      ],
      "text/plain": [
       "   SK_ID_CURR  CODE_REJECT_REASON_XAP  NAME_PORTFOLIO_POS  \\\n",
       "0      442210                       1                   0   \n",
       "1      313301                       1                   0   \n",
       "2      100687                       1                   1   \n",
       "3      351021                       1                   1   \n",
       "4      429801                       1                   1   \n",
       "\n",
       "   NAME_CONTRACT_TYPE_Consumer loans  CODE_REJECT_REASON_HC  \\\n",
       "0                                  0                      0   \n",
       "1                                  0                      0   \n",
       "2                                  1                      0   \n",
       "3                                  1                      0   \n",
       "4                                  1                      0   \n",
       "\n",
       "   CODE_REJECT_REASON_SYSTEM  NAME_PORTFOLIO_POS  NAME_PORTFOLIO_XNA  \\\n",
       "0                          0                   0                   0   \n",
       "1                          0                   0                   0   \n",
       "2                          0                   1                   0   \n",
       "3                          0                   1                   0   \n",
       "4                          0                   1                   0   \n",
       "\n",
       "   NAME_CONTRACT_STATUS  target    prob_0    prob_1  \n",
       "0                     0       0  0.739159  0.260841  \n",
       "1                     0       0  0.762468  0.237532  \n",
       "2                     0       0  0.782033  0.217967  \n",
       "3                     0       0  0.786854  0.213146  \n",
       "4                     0       0  0.772554  0.227446  "
      ]
     },
     "execution_count": 77,
     "metadata": {},
     "output_type": "execute_result"
    }
   ],
   "source": [
    "loan12.head()"
   ]
  },
  {
   "cell_type": "code",
   "execution_count": 78,
   "id": "e1285d58",
   "metadata": {},
   "outputs": [
    {
     "data": {
      "text/plain": [
       "0    1142\n",
       "1     358\n",
       "Name: NAME_CONTRACT_STATUS, dtype: int64"
      ]
     },
     "execution_count": 78,
     "metadata": {},
     "output_type": "execute_result"
    }
   ],
   "source": [
    "loan12['NAME_CONTRACT_STATUS'].value_counts()"
   ]
  },
  {
   "cell_type": "markdown",
   "id": "99b9d35a",
   "metadata": {},
   "source": [
    "# SPLITTING"
   ]
  },
  {
   "cell_type": "markdown",
   "id": "9a01a5f5",
   "metadata": {},
   "source": [
    "Before modelling we drop the SK_ID_CURR"
   ]
  },
  {
   "cell_type": "code",
   "execution_count": 79,
   "id": "196b75d5",
   "metadata": {},
   "outputs": [],
   "source": [
    "loan12=loan12.drop([\"SK_ID_CURR\"], axis=1)"
   ]
  },
  {
   "cell_type": "code",
   "execution_count": 80,
   "id": "f90e4486",
   "metadata": {},
   "outputs": [
    {
     "name": "stdout",
     "output_type": "stream",
     "text": [
      "<class 'pandas.core.frame.DataFrame'>\n",
      "Int64Index: 1500 entries, 0 to 1499\n",
      "Data columns (total 11 columns):\n",
      " #   Column                             Non-Null Count  Dtype  \n",
      "---  ------                             --------------  -----  \n",
      " 0   CODE_REJECT_REASON_XAP             1500 non-null   uint8  \n",
      " 1   NAME_PORTFOLIO_POS                 1500 non-null   uint8  \n",
      " 2   NAME_CONTRACT_TYPE_Consumer loans  1500 non-null   uint8  \n",
      " 3   CODE_REJECT_REASON_HC              1500 non-null   uint8  \n",
      " 4   CODE_REJECT_REASON_SYSTEM          1500 non-null   uint8  \n",
      " 5   NAME_PORTFOLIO_POS                 1500 non-null   uint8  \n",
      " 6   NAME_PORTFOLIO_XNA                 1500 non-null   uint8  \n",
      " 7   NAME_CONTRACT_STATUS               1500 non-null   int64  \n",
      " 8   target                             1500 non-null   int64  \n",
      " 9   prob_0                             1500 non-null   float64\n",
      " 10  prob_1                             1500 non-null   float64\n",
      "dtypes: float64(2), int64(2), uint8(7)\n",
      "memory usage: 68.8 KB\n"
     ]
    }
   ],
   "source": [
    "loan12.info()"
   ]
  },
  {
   "cell_type": "code",
   "execution_count": 81,
   "id": "7a635242",
   "metadata": {},
   "outputs": [],
   "source": [
    "# separating the independent and dependent variables\n",
    "\n",
    "X = loan12.drop([\"NAME_CONTRACT_STATUS\"], axis=1)\n",
    "y = loan12[\"NAME_CONTRACT_STATUS\"]"
   ]
  },
  {
   "cell_type": "code",
   "execution_count": 82,
   "id": "7800493c",
   "metadata": {},
   "outputs": [
    {
     "data": {
      "text/html": [
       "<div>\n",
       "<style scoped>\n",
       "    .dataframe tbody tr th:only-of-type {\n",
       "        vertical-align: middle;\n",
       "    }\n",
       "\n",
       "    .dataframe tbody tr th {\n",
       "        vertical-align: top;\n",
       "    }\n",
       "\n",
       "    .dataframe thead th {\n",
       "        text-align: right;\n",
       "    }\n",
       "</style>\n",
       "<table border=\"1\" class=\"dataframe\">\n",
       "  <thead>\n",
       "    <tr style=\"text-align: right;\">\n",
       "      <th></th>\n",
       "      <th>CODE_REJECT_REASON_XAP</th>\n",
       "      <th>NAME_PORTFOLIO_POS</th>\n",
       "      <th>NAME_CONTRACT_TYPE_Consumer loans</th>\n",
       "      <th>CODE_REJECT_REASON_HC</th>\n",
       "      <th>CODE_REJECT_REASON_SYSTEM</th>\n",
       "      <th>NAME_PORTFOLIO_POS</th>\n",
       "      <th>NAME_PORTFOLIO_XNA</th>\n",
       "      <th>target</th>\n",
       "      <th>prob_0</th>\n",
       "      <th>prob_1</th>\n",
       "    </tr>\n",
       "  </thead>\n",
       "  <tbody>\n",
       "    <tr>\n",
       "      <th>0</th>\n",
       "      <td>1</td>\n",
       "      <td>0</td>\n",
       "      <td>0</td>\n",
       "      <td>0</td>\n",
       "      <td>0</td>\n",
       "      <td>0</td>\n",
       "      <td>0</td>\n",
       "      <td>0</td>\n",
       "      <td>0.739159</td>\n",
       "      <td>0.260841</td>\n",
       "    </tr>\n",
       "    <tr>\n",
       "      <th>1</th>\n",
       "      <td>1</td>\n",
       "      <td>0</td>\n",
       "      <td>0</td>\n",
       "      <td>0</td>\n",
       "      <td>0</td>\n",
       "      <td>0</td>\n",
       "      <td>0</td>\n",
       "      <td>0</td>\n",
       "      <td>0.762468</td>\n",
       "      <td>0.237532</td>\n",
       "    </tr>\n",
       "    <tr>\n",
       "      <th>2</th>\n",
       "      <td>1</td>\n",
       "      <td>1</td>\n",
       "      <td>1</td>\n",
       "      <td>0</td>\n",
       "      <td>0</td>\n",
       "      <td>1</td>\n",
       "      <td>0</td>\n",
       "      <td>0</td>\n",
       "      <td>0.782033</td>\n",
       "      <td>0.217967</td>\n",
       "    </tr>\n",
       "    <tr>\n",
       "      <th>3</th>\n",
       "      <td>1</td>\n",
       "      <td>1</td>\n",
       "      <td>1</td>\n",
       "      <td>0</td>\n",
       "      <td>0</td>\n",
       "      <td>1</td>\n",
       "      <td>0</td>\n",
       "      <td>0</td>\n",
       "      <td>0.786854</td>\n",
       "      <td>0.213146</td>\n",
       "    </tr>\n",
       "    <tr>\n",
       "      <th>4</th>\n",
       "      <td>1</td>\n",
       "      <td>1</td>\n",
       "      <td>1</td>\n",
       "      <td>0</td>\n",
       "      <td>0</td>\n",
       "      <td>1</td>\n",
       "      <td>0</td>\n",
       "      <td>0</td>\n",
       "      <td>0.772554</td>\n",
       "      <td>0.227446</td>\n",
       "    </tr>\n",
       "  </tbody>\n",
       "</table>\n",
       "</div>"
      ],
      "text/plain": [
       "   CODE_REJECT_REASON_XAP  NAME_PORTFOLIO_POS  \\\n",
       "0                       1                   0   \n",
       "1                       1                   0   \n",
       "2                       1                   1   \n",
       "3                       1                   1   \n",
       "4                       1                   1   \n",
       "\n",
       "   NAME_CONTRACT_TYPE_Consumer loans  CODE_REJECT_REASON_HC  \\\n",
       "0                                  0                      0   \n",
       "1                                  0                      0   \n",
       "2                                  1                      0   \n",
       "3                                  1                      0   \n",
       "4                                  1                      0   \n",
       "\n",
       "   CODE_REJECT_REASON_SYSTEM  NAME_PORTFOLIO_POS  NAME_PORTFOLIO_XNA  target  \\\n",
       "0                          0                   0                   0       0   \n",
       "1                          0                   0                   0       0   \n",
       "2                          0                   1                   0       0   \n",
       "3                          0                   1                   0       0   \n",
       "4                          0                   1                   0       0   \n",
       "\n",
       "     prob_0    prob_1  \n",
       "0  0.739159  0.260841  \n",
       "1  0.762468  0.237532  \n",
       "2  0.782033  0.217967  \n",
       "3  0.786854  0.213146  \n",
       "4  0.772554  0.227446  "
      ]
     },
     "execution_count": 82,
     "metadata": {},
     "output_type": "execute_result"
    }
   ],
   "source": [
    "# encoding the categorical variables\n",
    "X = pd.get_dummies(X, drop_first=True)\n",
    "X.head()"
   ]
  },
  {
   "cell_type": "code",
   "execution_count": 83,
   "id": "b3e021d8",
   "metadata": {},
   "outputs": [
    {
     "name": "stdout",
     "output_type": "stream",
     "text": [
      "(750, 10) (450, 10) (300, 10)\n"
     ]
    }
   ],
   "source": [
    "# Splitting data into training, validation and test set:\n",
    "\n",
    "# first we split data into 2 parts, say temporary and test\n",
    "X_train, X_temp, y_train, y_temp = train_test_split(\n",
    "    X, y, test_size=0.5, random_state=0, stratify=y\n",
    ")\n",
    "\n",
    "# then we split the temporary set into train and validation\n",
    "X_val, X_test, y_val, y_test = train_test_split(\n",
    "    X_temp, y_temp, test_size=0.4, random_state=0, stratify=y_temp\n",
    ")\n",
    "\n",
    "print(X_train.shape, X_val.shape, X_test.shape)"
   ]
  },
  {
   "cell_type": "code",
   "execution_count": 84,
   "id": "d98149ba",
   "metadata": {},
   "outputs": [
    {
     "name": "stdout",
     "output_type": "stream",
     "text": [
      "Target value ratio in y\n",
      "0    0.761333\n",
      "1    0.238667\n",
      "Name: NAME_CONTRACT_STATUS, dtype: float64\n",
      "********************************************************************************\n",
      "Target value ratio in y_train\n",
      "0    0.761333\n",
      "1    0.238667\n",
      "Name: NAME_CONTRACT_STATUS, dtype: float64\n",
      "********************************************************************************\n",
      "Target value ratio in y_val\n",
      "0    0.762222\n",
      "1    0.237778\n",
      "Name: NAME_CONTRACT_STATUS, dtype: float64\n",
      "********************************************************************************\n",
      "Target value ratio in y_test\n",
      "0    0.76\n",
      "1    0.24\n",
      "Name: NAME_CONTRACT_STATUS, dtype: float64\n",
      "********************************************************************************\n"
     ]
    }
   ],
   "source": [
    "# Checking class balance for whole data, train set, validation set, and test set\n",
    "\n",
    "print(\"Target value ratio in y\")\n",
    "print(y.value_counts(1))\n",
    "print(\"*\" * 80)\n",
    "print(\"Target value ratio in y_train\")\n",
    "print(y_train.value_counts(1))\n",
    "print(\"*\" * 80)\n",
    "print(\"Target value ratio in y_val\")\n",
    "print(y_val.value_counts(1))\n",
    "print(\"*\" * 80)\n",
    "print(\"Target value ratio in y_test\")\n",
    "print(y_test.value_counts(1))\n",
    "print(\"*\" * 80)"
   ]
  },
  {
   "cell_type": "markdown",
   "id": "24f45ed4",
   "metadata": {},
   "source": [
    "# RANDOM FOREST"
   ]
  },
  {
   "cell_type": "markdown",
   "id": "a5531284",
   "metadata": {},
   "source": [
    "Let's first build a model with default parameters and see it's performance"
   ]
  },
  {
   "cell_type": "code",
   "execution_count": 85,
   "id": "77f288e6",
   "metadata": {},
   "outputs": [
    {
     "data": {
      "text/html": [
       "<style>#sk-container-id-2 {color: black;background-color: white;}#sk-container-id-2 pre{padding: 0;}#sk-container-id-2 div.sk-toggleable {background-color: white;}#sk-container-id-2 label.sk-toggleable__label {cursor: pointer;display: block;width: 100%;margin-bottom: 0;padding: 0.3em;box-sizing: border-box;text-align: center;}#sk-container-id-2 label.sk-toggleable__label-arrow:before {content: \"▸\";float: left;margin-right: 0.25em;color: #696969;}#sk-container-id-2 label.sk-toggleable__label-arrow:hover:before {color: black;}#sk-container-id-2 div.sk-estimator:hover label.sk-toggleable__label-arrow:before {color: black;}#sk-container-id-2 div.sk-toggleable__content {max-height: 0;max-width: 0;overflow: hidden;text-align: left;background-color: #f0f8ff;}#sk-container-id-2 div.sk-toggleable__content pre {margin: 0.2em;color: black;border-radius: 0.25em;background-color: #f0f8ff;}#sk-container-id-2 input.sk-toggleable__control:checked~div.sk-toggleable__content {max-height: 200px;max-width: 100%;overflow: auto;}#sk-container-id-2 input.sk-toggleable__control:checked~label.sk-toggleable__label-arrow:before {content: \"▾\";}#sk-container-id-2 div.sk-estimator input.sk-toggleable__control:checked~label.sk-toggleable__label {background-color: #d4ebff;}#sk-container-id-2 div.sk-label input.sk-toggleable__control:checked~label.sk-toggleable__label {background-color: #d4ebff;}#sk-container-id-2 input.sk-hidden--visually {border: 0;clip: rect(1px 1px 1px 1px);clip: rect(1px, 1px, 1px, 1px);height: 1px;margin: -1px;overflow: hidden;padding: 0;position: absolute;width: 1px;}#sk-container-id-2 div.sk-estimator {font-family: monospace;background-color: #f0f8ff;border: 1px dotted black;border-radius: 0.25em;box-sizing: border-box;margin-bottom: 0.5em;}#sk-container-id-2 div.sk-estimator:hover {background-color: #d4ebff;}#sk-container-id-2 div.sk-parallel-item::after {content: \"\";width: 100%;border-bottom: 1px solid gray;flex-grow: 1;}#sk-container-id-2 div.sk-label:hover label.sk-toggleable__label {background-color: #d4ebff;}#sk-container-id-2 div.sk-serial::before {content: \"\";position: absolute;border-left: 1px solid gray;box-sizing: border-box;top: 0;bottom: 0;left: 50%;z-index: 0;}#sk-container-id-2 div.sk-serial {display: flex;flex-direction: column;align-items: center;background-color: white;padding-right: 0.2em;padding-left: 0.2em;position: relative;}#sk-container-id-2 div.sk-item {position: relative;z-index: 1;}#sk-container-id-2 div.sk-parallel {display: flex;align-items: stretch;justify-content: center;background-color: white;position: relative;}#sk-container-id-2 div.sk-item::before, #sk-container-id-2 div.sk-parallel-item::before {content: \"\";position: absolute;border-left: 1px solid gray;box-sizing: border-box;top: 0;bottom: 0;left: 50%;z-index: -1;}#sk-container-id-2 div.sk-parallel-item {display: flex;flex-direction: column;z-index: 1;position: relative;background-color: white;}#sk-container-id-2 div.sk-parallel-item:first-child::after {align-self: flex-end;width: 50%;}#sk-container-id-2 div.sk-parallel-item:last-child::after {align-self: flex-start;width: 50%;}#sk-container-id-2 div.sk-parallel-item:only-child::after {width: 0;}#sk-container-id-2 div.sk-dashed-wrapped {border: 1px dashed gray;margin: 0 0.4em 0.5em 0.4em;box-sizing: border-box;padding-bottom: 0.4em;background-color: white;}#sk-container-id-2 div.sk-label label {font-family: monospace;font-weight: bold;display: inline-block;line-height: 1.2em;}#sk-container-id-2 div.sk-label-container {text-align: center;}#sk-container-id-2 div.sk-container {/* jupyter's `normalize.less` sets `[hidden] { display: none; }` but bootstrap.min.css set `[hidden] { display: none !important; }` so we also need the `!important` here to be able to override the default hidden behavior on the sphinx rendered scikit-learn.org. See: https://github.com/scikit-learn/scikit-learn/issues/21755 */display: inline-block !important;position: relative;}#sk-container-id-2 div.sk-text-repr-fallback {display: none;}</style><div id=\"sk-container-id-2\" class=\"sk-top-container\"><div class=\"sk-text-repr-fallback\"><pre>RandomForestClassifier(random_state=1)</pre><b>In a Jupyter environment, please rerun this cell to show the HTML representation or trust the notebook. <br />On GitHub, the HTML representation is unable to render, please try loading this page with nbviewer.org.</b></div><div class=\"sk-container\" hidden><div class=\"sk-item\"><div class=\"sk-estimator sk-toggleable\"><input class=\"sk-toggleable__control sk-hidden--visually\" id=\"sk-estimator-id-2\" type=\"checkbox\" checked><label for=\"sk-estimator-id-2\" class=\"sk-toggleable__label sk-toggleable__label-arrow\">RandomForestClassifier</label><div class=\"sk-toggleable__content\"><pre>RandomForestClassifier(random_state=1)</pre></div></div></div></div></div>"
      ],
      "text/plain": [
       "RandomForestClassifier(random_state=1)"
      ]
     },
     "execution_count": 85,
     "metadata": {},
     "output_type": "execute_result"
    }
   ],
   "source": [
    "# model without hyperparameter tuning\n",
    "rf = RandomForestClassifier(random_state=1)\n",
    "rf.fit(X_train, y_train)"
   ]
  },
  {
   "cell_type": "markdown",
   "id": "291a499d",
   "metadata": {},
   "source": [
    "# Let's check model's performance"
   ]
  },
  {
   "cell_type": "code",
   "execution_count": 87,
   "id": "443fb79f",
   "metadata": {},
   "outputs": [
    {
     "name": "stdout",
     "output_type": "stream",
     "text": [
      "Recall on train and validation set\n",
      "1.0\n",
      "0.9906542056074766\n",
      "\n",
      "Precision on train and validation set\n",
      "1.0\n",
      "0.9814814814814815\n",
      "\n",
      "Accuracy on train and validation set\n",
      "1.0\n",
      "0.9933333333333333\n"
     ]
    }
   ],
   "source": [
    "# Checking recall score on train and validation set\n",
    "print(\"Recall on train and validation set\")\n",
    "print(recall_score(y_train, rf.predict(X_train)))\n",
    "print(recall_score(y_val, rf.predict(X_val)))\n",
    "print(\"\")\n",
    "\n",
    "# Checking Precision score on train and validation set\n",
    "print(\"Precision on train and validation set\")\n",
    "print(precision_score(y_train, rf.predict(X_train)))\n",
    "print(precision_score(y_val, rf.predict(X_val)))\n",
    "\n",
    "print(\"\")\n",
    "\n",
    "# Checking Accuracy score on train and validation set\n",
    "print(\"Accuracy on train and validation set\")\n",
    "print(accuracy_score(y_train, rf.predict(X_train)))\n",
    "print(accuracy_score(y_val, rf.predict(X_val)))"
   ]
  },
  {
   "cell_type": "markdown",
   "id": "5c56aa5c",
   "metadata": {},
   "source": [
    "# Hyperparameter Tuning"
   ]
  },
  {
   "cell_type": "markdown",
   "id": "6e9bffb9",
   "metadata": {},
   "source": [
    "Grid Search CV\n",
    "\n",
    "\n",
    "Hyperparameter tuning is also tricky in the sense that there is no direct way to calculate how a change in the hyperparameter value will reduce the loss of your model, so we usually resort to experimentation. i.e we'll use Grid search Grid search is a tuning technique that attempts to compute the optimum values of hyperparameters. It is an exhaustive search that is performed on the specific parameter values of a model. The parameters of the estimator/model used to apply these methods are optimized by cross-validated grid-search over a parameter grid."
   ]
  },
  {
   "cell_type": "code",
   "execution_count": null,
   "id": "07c3fa4f",
   "metadata": {},
   "outputs": [],
   "source": []
  },
  {
   "cell_type": "markdown",
   "id": "b5eac7db",
   "metadata": {},
   "source": [
    "# How to know the hyperparameters available for an algorithm?"
   ]
  },
  {
   "cell_type": "code",
   "execution_count": 90,
   "id": "58c1cbc9",
   "metadata": {},
   "outputs": [
    {
     "data": {
      "text/plain": [
       "{'bootstrap': True,\n",
       " 'ccp_alpha': 0.0,\n",
       " 'class_weight': None,\n",
       " 'criterion': 'gini',\n",
       " 'max_depth': None,\n",
       " 'max_features': 'sqrt',\n",
       " 'max_leaf_nodes': None,\n",
       " 'max_samples': None,\n",
       " 'min_impurity_decrease': 0.0,\n",
       " 'min_samples_leaf': 1,\n",
       " 'min_samples_split': 2,\n",
       " 'min_weight_fraction_leaf': 0.0,\n",
       " 'n_estimators': 100,\n",
       " 'n_jobs': None,\n",
       " 'oob_score': False,\n",
       " 'random_state': None,\n",
       " 'verbose': 0,\n",
       " 'warm_start': False}"
      ]
     },
     "execution_count": 90,
     "metadata": {},
     "output_type": "execute_result"
    }
   ],
   "source": [
    "RandomForestClassifier().get_params()"
   ]
  },
  {
   "cell_type": "markdown",
   "id": "676cad29",
   "metadata": {},
   "source": [
    "We can see the names of hyperparameters available and their default values.\n",
    "\n",
    "We can choose which ones to tune."
   ]
  },
  {
   "cell_type": "code",
   "execution_count": 91,
   "id": "c4737004",
   "metadata": {},
   "outputs": [
    {
     "name": "stdout",
     "output_type": "stream",
     "text": [
      "[0.2 0.3 0.4 0.5 0.6]\n",
      "[5 6 7 8 9]\n"
     ]
    }
   ],
   "source": [
    "print(np.arange(0.2, 0.7, 0.1))\n",
    "\n",
    "print(np.arange(5,10))"
   ]
  },
  {
   "cell_type": "markdown",
   "id": "888d35b7",
   "metadata": {},
   "source": [
    "# Let's tune Random forest using Grid Search"
   ]
  },
  {
   "cell_type": "code",
   "execution_count": 92,
   "id": "636acb4f",
   "metadata": {},
   "outputs": [
    {
     "name": "stdout",
     "output_type": "stream",
     "text": [
      "Fitting 5 folds for each of 1800 candidates, totalling 9000 fits\n",
      "Wall time: 17min 34s\n"
     ]
    },
    {
     "data": {
      "text/plain": [
       "{'class_weight': 'balanced',\n",
       " 'max_depth': 3,\n",
       " 'max_features': 0.4000000000000001,\n",
       " 'max_samples': 0.6000000000000001,\n",
       " 'min_impurity_decrease': 0.001,\n",
       " 'min_samples_leaf': 5,\n",
       " 'n_estimators': 150}"
      ]
     },
     "execution_count": 92,
     "metadata": {},
     "output_type": "execute_result"
    }
   ],
   "source": [
    "%%time\n",
    "\n",
    "# Choose the type of classifier. \n",
    "rf1 = RandomForestClassifier(random_state=1)\n",
    "\n",
    "# Grid of parameters to choose from\n",
    "parameters = {\"n_estimators\": [150,200,250],\n",
    "    \"min_samples_leaf\": np.arange(5, 10),\n",
    "    \"max_features\": np.arange(0.2, 0.7, 0.1),\n",
    "    \"max_samples\": np.arange(0.3, 0.7, 0.1),\n",
    "    \"class_weight\" : ['balanced', 'balanced_subsample'],\n",
    "    \"max_depth\":np.arange(3,4,5),\n",
    "    \"min_impurity_decrease\":[0.001, 0.002, 0.003]\n",
    "             }\n",
    "\n",
    "# Type of scoring used to compare parameter combinations\n",
    "acc_scorer = metrics.make_scorer(metrics.recall_score)\n",
    "\n",
    "# Run the grid search\n",
    "grid_obj = GridSearchCV(rf1, parameters, scoring=acc_scorer, cv=5, n_jobs= -1, verbose = 2)\n",
    "# verbose = 2 tells about the number of fits, which can give an idea of how long will the model take in tuning\n",
    "# n_jobs = -1 so that all CPU cores can be run parallelly to optimize the Search\n",
    "\n",
    "grid_obj = grid_obj.fit(X_train, y_train)\n",
    "\n",
    "# Print the best combination of parameters\n",
    "grid_obj.best_params_\n"
   ]
  },
  {
   "cell_type": "markdown",
   "id": "10caded5",
   "metadata": {},
   "source": [
    "Let's check the best CV score, for the obtained parameters"
   ]
  },
  {
   "cell_type": "code",
   "execution_count": 93,
   "id": "99a2de84",
   "metadata": {},
   "outputs": [
    {
     "data": {
      "text/plain": [
       "0.9888888888888889"
      ]
     },
     "execution_count": 93,
     "metadata": {},
     "output_type": "execute_result"
    }
   ],
   "source": [
    "grid_obj.best_score_"
   ]
  },
  {
   "cell_type": "markdown",
   "id": "2ddc3b1f",
   "metadata": {},
   "source": [
    "Let's build a model with obtained best parameter\n",
    "\n",
    "We are hard coding the hyperparameters separately so that we don't have to run the grid search again."
   ]
  },
  {
   "cell_type": "code",
   "execution_count": 94,
   "id": "de151212",
   "metadata": {},
   "outputs": [
    {
     "data": {
      "text/html": [
       "<style>#sk-container-id-4 {color: black;background-color: white;}#sk-container-id-4 pre{padding: 0;}#sk-container-id-4 div.sk-toggleable {background-color: white;}#sk-container-id-4 label.sk-toggleable__label {cursor: pointer;display: block;width: 100%;margin-bottom: 0;padding: 0.3em;box-sizing: border-box;text-align: center;}#sk-container-id-4 label.sk-toggleable__label-arrow:before {content: \"▸\";float: left;margin-right: 0.25em;color: #696969;}#sk-container-id-4 label.sk-toggleable__label-arrow:hover:before {color: black;}#sk-container-id-4 div.sk-estimator:hover label.sk-toggleable__label-arrow:before {color: black;}#sk-container-id-4 div.sk-toggleable__content {max-height: 0;max-width: 0;overflow: hidden;text-align: left;background-color: #f0f8ff;}#sk-container-id-4 div.sk-toggleable__content pre {margin: 0.2em;color: black;border-radius: 0.25em;background-color: #f0f8ff;}#sk-container-id-4 input.sk-toggleable__control:checked~div.sk-toggleable__content {max-height: 200px;max-width: 100%;overflow: auto;}#sk-container-id-4 input.sk-toggleable__control:checked~label.sk-toggleable__label-arrow:before {content: \"▾\";}#sk-container-id-4 div.sk-estimator input.sk-toggleable__control:checked~label.sk-toggleable__label {background-color: #d4ebff;}#sk-container-id-4 div.sk-label input.sk-toggleable__control:checked~label.sk-toggleable__label {background-color: #d4ebff;}#sk-container-id-4 input.sk-hidden--visually {border: 0;clip: rect(1px 1px 1px 1px);clip: rect(1px, 1px, 1px, 1px);height: 1px;margin: -1px;overflow: hidden;padding: 0;position: absolute;width: 1px;}#sk-container-id-4 div.sk-estimator {font-family: monospace;background-color: #f0f8ff;border: 1px dotted black;border-radius: 0.25em;box-sizing: border-box;margin-bottom: 0.5em;}#sk-container-id-4 div.sk-estimator:hover {background-color: #d4ebff;}#sk-container-id-4 div.sk-parallel-item::after {content: \"\";width: 100%;border-bottom: 1px solid gray;flex-grow: 1;}#sk-container-id-4 div.sk-label:hover label.sk-toggleable__label {background-color: #d4ebff;}#sk-container-id-4 div.sk-serial::before {content: \"\";position: absolute;border-left: 1px solid gray;box-sizing: border-box;top: 0;bottom: 0;left: 50%;z-index: 0;}#sk-container-id-4 div.sk-serial {display: flex;flex-direction: column;align-items: center;background-color: white;padding-right: 0.2em;padding-left: 0.2em;position: relative;}#sk-container-id-4 div.sk-item {position: relative;z-index: 1;}#sk-container-id-4 div.sk-parallel {display: flex;align-items: stretch;justify-content: center;background-color: white;position: relative;}#sk-container-id-4 div.sk-item::before, #sk-container-id-4 div.sk-parallel-item::before {content: \"\";position: absolute;border-left: 1px solid gray;box-sizing: border-box;top: 0;bottom: 0;left: 50%;z-index: -1;}#sk-container-id-4 div.sk-parallel-item {display: flex;flex-direction: column;z-index: 1;position: relative;background-color: white;}#sk-container-id-4 div.sk-parallel-item:first-child::after {align-self: flex-end;width: 50%;}#sk-container-id-4 div.sk-parallel-item:last-child::after {align-self: flex-start;width: 50%;}#sk-container-id-4 div.sk-parallel-item:only-child::after {width: 0;}#sk-container-id-4 div.sk-dashed-wrapped {border: 1px dashed gray;margin: 0 0.4em 0.5em 0.4em;box-sizing: border-box;padding-bottom: 0.4em;background-color: white;}#sk-container-id-4 div.sk-label label {font-family: monospace;font-weight: bold;display: inline-block;line-height: 1.2em;}#sk-container-id-4 div.sk-label-container {text-align: center;}#sk-container-id-4 div.sk-container {/* jupyter's `normalize.less` sets `[hidden] { display: none; }` but bootstrap.min.css set `[hidden] { display: none !important; }` so we also need the `!important` here to be able to override the default hidden behavior on the sphinx rendered scikit-learn.org. See: https://github.com/scikit-learn/scikit-learn/issues/21755 */display: inline-block !important;position: relative;}#sk-container-id-4 div.sk-text-repr-fallback {display: none;}</style><div id=\"sk-container-id-4\" class=\"sk-top-container\"><div class=\"sk-text-repr-fallback\"><pre>RandomForestClassifier(class_weight=&#x27;balanced&#x27;, max_depth=3, max_features=0.2,\n",
       "                       max_samples=0.6000000000000001,\n",
       "                       min_impurity_decrease=0.001, min_samples_leaf=5,\n",
       "                       n_estimators=150, random_state=1)</pre><b>In a Jupyter environment, please rerun this cell to show the HTML representation or trust the notebook. <br />On GitHub, the HTML representation is unable to render, please try loading this page with nbviewer.org.</b></div><div class=\"sk-container\" hidden><div class=\"sk-item\"><div class=\"sk-estimator sk-toggleable\"><input class=\"sk-toggleable__control sk-hidden--visually\" id=\"sk-estimator-id-4\" type=\"checkbox\" checked><label for=\"sk-estimator-id-4\" class=\"sk-toggleable__label sk-toggleable__label-arrow\">RandomForestClassifier</label><div class=\"sk-toggleable__content\"><pre>RandomForestClassifier(class_weight=&#x27;balanced&#x27;, max_depth=3, max_features=0.2,\n",
       "                       max_samples=0.6000000000000001,\n",
       "                       min_impurity_decrease=0.001, min_samples_leaf=5,\n",
       "                       n_estimators=150, random_state=1)</pre></div></div></div></div></div>"
      ],
      "text/plain": [
       "RandomForestClassifier(class_weight='balanced', max_depth=3, max_features=0.2,\n",
       "                       max_samples=0.6000000000000001,\n",
       "                       min_impurity_decrease=0.001, min_samples_leaf=5,\n",
       "                       n_estimators=150, random_state=1)"
      ]
     },
     "execution_count": 94,
     "metadata": {},
     "output_type": "execute_result"
    }
   ],
   "source": [
    "# Set the clf to the best combination of parameters\n",
    "rf1_tuned = RandomForestClassifier(\n",
    "    class_weight=\"balanced\",\n",
    "    max_features=0.2,\n",
    "    max_samples=0.6000000000000001,\n",
    "    min_samples_leaf=5,\n",
    "    n_estimators=150,\n",
    "    max_depth=3,\n",
    "    random_state=1,\n",
    "    min_impurity_decrease=0.001,\n",
    ")\n",
    "\n",
    "# Fit the best algorithm to the data.\n",
    "rf1_tuned.fit(X_train, y_train)"
   ]
  },
  {
   "cell_type": "markdown",
   "id": "200595dd",
   "metadata": {},
   "source": [
    "Let's check the model's performance"
   ]
  },
  {
   "cell_type": "code",
   "execution_count": 95,
   "id": "a866d6d7",
   "metadata": {},
   "outputs": [
    {
     "name": "stdout",
     "output_type": "stream",
     "text": [
      "Recall on train and validation set\n",
      "0.9832402234636871\n",
      "0.9906542056074766\n",
      "\n",
      "Precision on train and validation set\n",
      "0.8301886792452831\n",
      "0.7412587412587412\n",
      "\n",
      "Accuracy on train and validation set\n",
      "0.948\n",
      "0.9155555555555556\n"
     ]
    }
   ],
   "source": [
    "# Checking recall score on train and validation set\n",
    "print(\"Recall on train and validation set\")\n",
    "print(recall_score(y_train, rf1_tuned.predict(X_train)))\n",
    "print(recall_score(y_val, rf1_tuned.predict(X_val)))\n",
    "print(\"\")\n",
    "\n",
    "# Checking precision score on train and validation set\n",
    "print(\"Precision on train and validation set\")\n",
    "print(precision_score(y_train, rf1_tuned.predict(X_train)))\n",
    "print(precision_score(y_val, rf1_tuned.predict(X_val)))\n",
    "print(\"\")\n",
    "\n",
    "# Checking accuracy score on train and validation set\n",
    "print(\"Accuracy on train and validation set\")\n",
    "print(accuracy_score(y_train, rf1_tuned.predict(X_train)))\n",
    "print(accuracy_score(y_val, rf1_tuned.predict(X_val)))"
   ]
  },
  {
   "cell_type": "markdown",
   "id": "8c4e7701",
   "metadata": {},
   "source": [
    "# Randomized Search CV"
   ]
  },
  {
   "cell_type": "markdown",
   "id": "7ad1e85f",
   "metadata": {},
   "source": [
    "Random search is a tuning technique that attempts to compute the optimum values of hyperparameters randomly unlike grid search"
   ]
  },
  {
   "cell_type": "markdown",
   "id": "c3f1d4c8",
   "metadata": {},
   "source": [
    "# Let's tune Random forest using Randomized Search"
   ]
  },
  {
   "cell_type": "code",
   "execution_count": 96,
   "id": "37eaac6d",
   "metadata": {},
   "outputs": [
    {
     "name": "stdout",
     "output_type": "stream",
     "text": [
      "Fitting 5 folds for each of 30 candidates, totalling 150 fits\n",
      "Wall time: 13.5 s\n"
     ]
    },
    {
     "data": {
      "text/plain": [
       "{'n_estimators': 150,\n",
       " 'min_samples_leaf': 5,\n",
       " 'min_impurity_decrease': 0.002,\n",
       " 'max_samples': 0.6000000000000001,\n",
       " 'max_features': 0.4000000000000001,\n",
       " 'max_depth': 3,\n",
       " 'class_weight': 'balanced_subsample'}"
      ]
     },
     "execution_count": 96,
     "metadata": {},
     "output_type": "execute_result"
    }
   ],
   "source": [
    "%%time\n",
    "\n",
    "# Choose the type of classifier. \n",
    "rf2 = RandomForestClassifier(random_state=1)\n",
    "\n",
    "# Grid of parameters to choose from\n",
    "parameters = {\"n_estimators\": [150,200,250],\n",
    "    \"min_samples_leaf\": np.arange(5, 10),\n",
    "    \"max_features\": np.arange(0.2, 0.7, 0.1), \n",
    "    \"max_samples\": np.arange(0.3, 0.7, 0.1),\n",
    "    \"max_depth\":np.arange(3,4,5),\n",
    "    \"class_weight\" : ['balanced', 'balanced_subsample'],\n",
    "    \"min_impurity_decrease\":[0.001, 0.002, 0.003]\n",
    "             }\n",
    "\n",
    "# Type of scoring used to compare parameter combinations\n",
    "acc_scorer = metrics.make_scorer(metrics.recall_score)\n",
    "\n",
    "# Run the random search\n",
    "grid_obj = RandomizedSearchCV(rf2, parameters,n_iter=30, scoring=acc_scorer,cv=5, random_state = 1, n_jobs = -1, verbose = 2)\n",
    "# using n_iter = 30, so randomized search will try 30 different combinations of hyperparameters\n",
    "# by default, n_iter = 10\n",
    "\n",
    "grid_obj = grid_obj.fit(X_train, y_train)\n",
    "\n",
    "# Print the best combination of parameters\n",
    "grid_obj.best_params_\n"
   ]
  },
  {
   "cell_type": "markdown",
   "id": "67cc0fd1",
   "metadata": {},
   "source": [
    "Let's check the best CV score, for the obtained parameters"
   ]
  },
  {
   "cell_type": "code",
   "execution_count": 97,
   "id": "1a9b0cbc",
   "metadata": {},
   "outputs": [
    {
     "data": {
      "text/plain": [
       "0.9888888888888889"
      ]
     },
     "execution_count": 97,
     "metadata": {},
     "output_type": "execute_result"
    }
   ],
   "source": [
    "grid_obj.best_score_"
   ]
  },
  {
   "cell_type": "code",
   "execution_count": 98,
   "id": "f94ebfe8",
   "metadata": {},
   "outputs": [
    {
     "data": {
      "text/html": [
       "<style>#sk-container-id-5 {color: black;background-color: white;}#sk-container-id-5 pre{padding: 0;}#sk-container-id-5 div.sk-toggleable {background-color: white;}#sk-container-id-5 label.sk-toggleable__label {cursor: pointer;display: block;width: 100%;margin-bottom: 0;padding: 0.3em;box-sizing: border-box;text-align: center;}#sk-container-id-5 label.sk-toggleable__label-arrow:before {content: \"▸\";float: left;margin-right: 0.25em;color: #696969;}#sk-container-id-5 label.sk-toggleable__label-arrow:hover:before {color: black;}#sk-container-id-5 div.sk-estimator:hover label.sk-toggleable__label-arrow:before {color: black;}#sk-container-id-5 div.sk-toggleable__content {max-height: 0;max-width: 0;overflow: hidden;text-align: left;background-color: #f0f8ff;}#sk-container-id-5 div.sk-toggleable__content pre {margin: 0.2em;color: black;border-radius: 0.25em;background-color: #f0f8ff;}#sk-container-id-5 input.sk-toggleable__control:checked~div.sk-toggleable__content {max-height: 200px;max-width: 100%;overflow: auto;}#sk-container-id-5 input.sk-toggleable__control:checked~label.sk-toggleable__label-arrow:before {content: \"▾\";}#sk-container-id-5 div.sk-estimator input.sk-toggleable__control:checked~label.sk-toggleable__label {background-color: #d4ebff;}#sk-container-id-5 div.sk-label input.sk-toggleable__control:checked~label.sk-toggleable__label {background-color: #d4ebff;}#sk-container-id-5 input.sk-hidden--visually {border: 0;clip: rect(1px 1px 1px 1px);clip: rect(1px, 1px, 1px, 1px);height: 1px;margin: -1px;overflow: hidden;padding: 0;position: absolute;width: 1px;}#sk-container-id-5 div.sk-estimator {font-family: monospace;background-color: #f0f8ff;border: 1px dotted black;border-radius: 0.25em;box-sizing: border-box;margin-bottom: 0.5em;}#sk-container-id-5 div.sk-estimator:hover {background-color: #d4ebff;}#sk-container-id-5 div.sk-parallel-item::after {content: \"\";width: 100%;border-bottom: 1px solid gray;flex-grow: 1;}#sk-container-id-5 div.sk-label:hover label.sk-toggleable__label {background-color: #d4ebff;}#sk-container-id-5 div.sk-serial::before {content: \"\";position: absolute;border-left: 1px solid gray;box-sizing: border-box;top: 0;bottom: 0;left: 50%;z-index: 0;}#sk-container-id-5 div.sk-serial {display: flex;flex-direction: column;align-items: center;background-color: white;padding-right: 0.2em;padding-left: 0.2em;position: relative;}#sk-container-id-5 div.sk-item {position: relative;z-index: 1;}#sk-container-id-5 div.sk-parallel {display: flex;align-items: stretch;justify-content: center;background-color: white;position: relative;}#sk-container-id-5 div.sk-item::before, #sk-container-id-5 div.sk-parallel-item::before {content: \"\";position: absolute;border-left: 1px solid gray;box-sizing: border-box;top: 0;bottom: 0;left: 50%;z-index: -1;}#sk-container-id-5 div.sk-parallel-item {display: flex;flex-direction: column;z-index: 1;position: relative;background-color: white;}#sk-container-id-5 div.sk-parallel-item:first-child::after {align-self: flex-end;width: 50%;}#sk-container-id-5 div.sk-parallel-item:last-child::after {align-self: flex-start;width: 50%;}#sk-container-id-5 div.sk-parallel-item:only-child::after {width: 0;}#sk-container-id-5 div.sk-dashed-wrapped {border: 1px dashed gray;margin: 0 0.4em 0.5em 0.4em;box-sizing: border-box;padding-bottom: 0.4em;background-color: white;}#sk-container-id-5 div.sk-label label {font-family: monospace;font-weight: bold;display: inline-block;line-height: 1.2em;}#sk-container-id-5 div.sk-label-container {text-align: center;}#sk-container-id-5 div.sk-container {/* jupyter's `normalize.less` sets `[hidden] { display: none; }` but bootstrap.min.css set `[hidden] { display: none !important; }` so we also need the `!important` here to be able to override the default hidden behavior on the sphinx rendered scikit-learn.org. See: https://github.com/scikit-learn/scikit-learn/issues/21755 */display: inline-block !important;position: relative;}#sk-container-id-5 div.sk-text-repr-fallback {display: none;}</style><div id=\"sk-container-id-5\" class=\"sk-top-container\"><div class=\"sk-text-repr-fallback\"><pre>RandomForestClassifier(class_weight=&#x27;balanced&#x27;, max_depth=3, max_features=0.2,\n",
       "                       max_samples=0.5, min_impurity_decrease=0.003,\n",
       "                       min_samples_leaf=5, n_estimators=150, random_state=1)</pre><b>In a Jupyter environment, please rerun this cell to show the HTML representation or trust the notebook. <br />On GitHub, the HTML representation is unable to render, please try loading this page with nbviewer.org.</b></div><div class=\"sk-container\" hidden><div class=\"sk-item\"><div class=\"sk-estimator sk-toggleable\"><input class=\"sk-toggleable__control sk-hidden--visually\" id=\"sk-estimator-id-5\" type=\"checkbox\" checked><label for=\"sk-estimator-id-5\" class=\"sk-toggleable__label sk-toggleable__label-arrow\">RandomForestClassifier</label><div class=\"sk-toggleable__content\"><pre>RandomForestClassifier(class_weight=&#x27;balanced&#x27;, max_depth=3, max_features=0.2,\n",
       "                       max_samples=0.5, min_impurity_decrease=0.003,\n",
       "                       min_samples_leaf=5, n_estimators=150, random_state=1)</pre></div></div></div></div></div>"
      ],
      "text/plain": [
       "RandomForestClassifier(class_weight='balanced', max_depth=3, max_features=0.2,\n",
       "                       max_samples=0.5, min_impurity_decrease=0.003,\n",
       "                       min_samples_leaf=5, n_estimators=150, random_state=1)"
      ]
     },
     "execution_count": 98,
     "metadata": {},
     "output_type": "execute_result"
    }
   ],
   "source": [
    "# Set the clf to the best combination of parameters\n",
    "rf2_tuned = RandomForestClassifier(\n",
    "    class_weight=\"balanced\",\n",
    "    max_features=0.2,\n",
    "    max_samples=0.5,\n",
    "    min_samples_leaf=5,\n",
    "    n_estimators=150,\n",
    "    random_state=1,\n",
    "    max_depth=3,\n",
    "    min_impurity_decrease=0.003,\n",
    ")\n",
    "\n",
    "# Fit the best algorithm to the data.\n",
    "rf2_tuned.fit(X_train, y_train)"
   ]
  },
  {
   "cell_type": "markdown",
   "id": "d2c1c1a8",
   "metadata": {},
   "source": [
    "Let's check the model's performance"
   ]
  },
  {
   "cell_type": "code",
   "execution_count": 99,
   "id": "283ae0c3",
   "metadata": {},
   "outputs": [
    {
     "name": "stdout",
     "output_type": "stream",
     "text": [
      "Recall on train and validation set\n",
      "0.9385474860335196\n",
      "0.9345794392523364\n",
      "\n",
      "Precision on train and validation set\n",
      "0.8235294117647058\n",
      "0.7299270072992701\n",
      "\n",
      "Accuracy on train and validation set\n",
      "0.9373333333333334\n",
      "0.9022222222222223\n"
     ]
    }
   ],
   "source": [
    "# Checking recall score on train and validation set\n",
    "print(\"Recall on train and validation set\")\n",
    "print(recall_score(y_train, rf2_tuned.predict(X_train)))\n",
    "print(recall_score(y_val, rf2_tuned.predict(X_val)))\n",
    "print(\"\")\n",
    "print(\"Precision on train and validation set\")\n",
    "# Checking precision score on train and validation set\n",
    "print(precision_score(y_train, rf2_tuned.predict(X_train)))\n",
    "print(precision_score(y_val, rf2_tuned.predict(X_val)))\n",
    "print(\"\")\n",
    "print(\"Accuracy on train and validation set\")\n",
    "# Checking accuracy score on train and validation set\n",
    "print(accuracy_score(y_train, rf2_tuned.predict(X_train)))\n",
    "print(accuracy_score(y_val, rf2_tuned.predict(X_val)))"
   ]
  },
  {
   "cell_type": "markdown",
   "id": "016a5134",
   "metadata": {},
   "source": [
    "# Choose a best model and predict the performance on the test set"
   ]
  },
  {
   "cell_type": "code",
   "execution_count": 100,
   "id": "0936045a",
   "metadata": {},
   "outputs": [],
   "source": [
    "model = rf1_tuned"
   ]
  },
  {
   "cell_type": "code",
   "execution_count": 101,
   "id": "97e7fb36",
   "metadata": {},
   "outputs": [
    {
     "name": "stdout",
     "output_type": "stream",
     "text": [
      "Recall on test set\n",
      "0.9583333333333334\n",
      "\n",
      "Precision on test set\n",
      "0.7840909090909091\n",
      "\n",
      "Accuracy on test set\n",
      "0.9266666666666666\n"
     ]
    }
   ],
   "source": [
    "# Checking recall score on test set\n",
    "print(\"Recall on test set\")\n",
    "print(recall_score(y_test, model.predict(X_test)))\n",
    "print(\"\")\n",
    "\n",
    "# Checking precision score on test set\n",
    "print(\"Precision on test set\")\n",
    "print(precision_score(y_test, model.predict(X_test)))\n",
    "print(\"\")\n",
    "\n",
    "# Checking accuracy score on test set\n",
    "print(\"Accuracy on test set\")\n",
    "print(accuracy_score(y_test, model.predict(X_test)))"
   ]
  },
  {
   "cell_type": "code",
   "execution_count": 102,
   "id": "6a9bc21f",
   "metadata": {},
   "outputs": [],
   "source": [
    "model2 = rf2_tuned"
   ]
  },
  {
   "cell_type": "code",
   "execution_count": 103,
   "id": "b70edafc",
   "metadata": {},
   "outputs": [
    {
     "name": "stdout",
     "output_type": "stream",
     "text": [
      "Recall on test set\n",
      "0.9027777777777778\n",
      "\n",
      "Precision on test set\n",
      "0.7738095238095238\n",
      "\n",
      "Accuracy on test set\n",
      "0.9133333333333333\n"
     ]
    }
   ],
   "source": [
    "# Checking recall score on test set\n",
    "print(\"Recall on test set\")\n",
    "print(recall_score(y_test, model2.predict(X_test)))\n",
    "print(\"\")\n",
    "\n",
    "# Checking precision score on test set\n",
    "print(\"Precision on test set\")\n",
    "print(precision_score(y_test, model2.predict(X_test)))\n",
    "print(\"\")\n",
    "\n",
    "# Checking accuracy score on test set\n",
    "print(\"Accuracy on test set\")\n",
    "print(accuracy_score(y_test, model2.predict(X_test)))"
   ]
  },
  {
   "cell_type": "code",
   "execution_count": null,
   "id": "70689e98",
   "metadata": {},
   "outputs": [],
   "source": []
  }
 ],
 "metadata": {
  "kernelspec": {
   "display_name": "Python 3 (ipykernel)",
   "language": "python",
   "name": "python3"
  },
  "language_info": {
   "codemirror_mode": {
    "name": "ipython",
    "version": 3
   },
   "file_extension": ".py",
   "mimetype": "text/x-python",
   "name": "python",
   "nbconvert_exporter": "python",
   "pygments_lexer": "ipython3",
   "version": "3.9.7"
  }
 },
 "nbformat": 4,
 "nbformat_minor": 5
}
